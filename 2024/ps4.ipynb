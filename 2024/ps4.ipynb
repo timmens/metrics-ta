{
 "cells": [
  {
   "cell_type": "code",
   "execution_count": 1,
   "metadata": {},
   "outputs": [],
   "source": [
    "import pandas as pd\n",
    "import numpy as np\n",
    "\n",
    "import statsmodels.formula.api as smf"
   ]
  },
  {
   "cell_type": "code",
   "execution_count": 2,
   "metadata": {},
   "outputs": [],
   "source": [
    "raw_data = pd.read_stata(\"data/CK1994.dta\")"
   ]
  },
  {
   "cell_type": "code",
   "execution_count": 37,
   "metadata": {},
   "outputs": [],
   "source": [
    "def compute_full_time_equivalent_employees(raw_data):\n",
    "    full_time_equivalent_employees = np.zeros(len(raw_data))\n",
    "\n",
    "    for i, row in raw_data.iterrows():\n",
    "\n",
    "        if not np.isnan(row[\"empft\"]):\n",
    "            full_time_equivalent_employees[i] += row[\"empft\"]\n",
    "        \n",
    "        if not np.isnan(row[\"emppt\"]):\n",
    "            full_time_equivalent_employees[i] += 0.5 * row[\"emppt\"]\n",
    "\n",
    "        if not np.isnan(row[\"nmgrs\"]):\n",
    "            full_time_equivalent_employees[i] += row[\"nmgrs\"]\n",
    "        \n",
    "        if np.isnan([row[\"empft\"], row[\"emppt\"], row[\"nmgrs\"]]).all():\n",
    "            full_time_equivalent_employees[i] = np.nan\n",
    "\n",
    "    return full_time_equivalent_employees"
   ]
  },
  {
   "cell_type": "code",
   "execution_count": 63,
   "metadata": {},
   "outputs": [],
   "source": [
    "def clean_data(data):\n",
    "\n",
    "    new = pd.DataFrame()\n",
    "    \n",
    "    new[\"state\"] = data[\"state\"].astype(int)\n",
    "    new[\"time\"] = data[\"time\"].astype(int)\n",
    "\n",
    "    new[\"state_name\"] = new[\"state\"].map({0: \"Pennsylvania\", 1: \"New Jersey\"})\n",
    "    new[\"time_name\"] = new[\"time\"].map({0: \"Before Increase\", 1: \"After Increase\"})\n",
    "\n",
    "    new[\"treatment_dummy\"] = new[\"state\"] * new[\"time\"]\n",
    "    \n",
    "    new[\"full_time_equivalent_employees\"] = compute_full_time_equivalent_employees(data)\n",
    "        \n",
    "    new[\"store_id\"] = data[\"store\"].astype(int)\n",
    "    \n",
    "    new[\"hours_open\"] = data[\"hoursopen\"]\n",
    "\n",
    "    new = new.set_index([\"store_id\", \"time\"]).sort_index().reset_index()\n",
    "\n",
    "    stores_with_missing_data = new.query(\"full_time_equivalent_employees.isnull()\")[\"store_id\"].unique()\n",
    "\n",
    "    new = new.query(\"store_id not in @stores_with_missing_data\")\n",
    "\n",
    "    new = new.query(\"full_time_equivalent_employees > 0 & hours_open > 0\")\n",
    "\n",
    "    tmp = new.groupby(\"store_id\")[\"time\"].count()\n",
    "    invalided_stores = tmp[tmp < 2].index\n",
    "    return new.query(\"store_id not in @invalided_stores\")"
   ]
  },
  {
   "cell_type": "code",
   "execution_count": 64,
   "metadata": {},
   "outputs": [],
   "source": [
    "def recreate_table_1(data):\n",
    "    table = data.groupby([\"time_name\", \"state_name\"])[[\"full_time_equivalent_employees\"]].mean().unstack().loc[[\"Before Increase\", \"After Increase\"]]\n",
    "    row_difference = table.diff(axis=\"index\").to_numpy()[1, :]\n",
    "    table.loc[\"Difference\"] = row_difference\n",
    "\n",
    "    col_difference = -table.diff(axis=\"columns\").to_numpy()[:, 1]\n",
    "\n",
    "    table[\"Difference\"] = col_difference\n",
    "    return table\n"
   ]
  },
  {
   "cell_type": "code",
   "execution_count": 65,
   "metadata": {},
   "outputs": [],
   "source": [
    "data = clean_data(raw_data)"
   ]
  },
  {
   "cell_type": "code",
   "execution_count": 66,
   "metadata": {},
   "outputs": [
    {
     "data": {
      "text/html": [
       "<div>\n",
       "<style scoped>\n",
       "    .dataframe tbody tr th:only-of-type {\n",
       "        vertical-align: middle;\n",
       "    }\n",
       "\n",
       "    .dataframe tbody tr th {\n",
       "        vertical-align: top;\n",
       "    }\n",
       "\n",
       "    .dataframe thead tr th {\n",
       "        text-align: left;\n",
       "    }\n",
       "\n",
       "    .dataframe thead tr:last-of-type th {\n",
       "        text-align: right;\n",
       "    }\n",
       "</style>\n",
       "<table border=\"1\" class=\"dataframe\">\n",
       "  <thead>\n",
       "    <tr>\n",
       "      <th></th>\n",
       "      <th colspan=\"2\" halign=\"left\">full_time_equivalent_employees</th>\n",
       "      <th>Difference</th>\n",
       "    </tr>\n",
       "    <tr>\n",
       "      <th>state_name</th>\n",
       "      <th>New Jersey</th>\n",
       "      <th>Pennsylvania</th>\n",
       "      <th></th>\n",
       "    </tr>\n",
       "    <tr>\n",
       "      <th>time_name</th>\n",
       "      <th></th>\n",
       "      <th></th>\n",
       "      <th></th>\n",
       "    </tr>\n",
       "  </thead>\n",
       "  <tbody>\n",
       "    <tr>\n",
       "      <th>Before Increase</th>\n",
       "      <td>20.325156</td>\n",
       "      <td>23.285714</td>\n",
       "      <td>-2.960558</td>\n",
       "    </tr>\n",
       "    <tr>\n",
       "      <th>After Increase</th>\n",
       "      <td>21.155469</td>\n",
       "      <td>21.230519</td>\n",
       "      <td>-0.075051</td>\n",
       "    </tr>\n",
       "    <tr>\n",
       "      <th>Difference</th>\n",
       "      <td>0.830313</td>\n",
       "      <td>-2.055195</td>\n",
       "      <td>2.885507</td>\n",
       "    </tr>\n",
       "  </tbody>\n",
       "</table>\n",
       "</div>"
      ],
      "text/plain": [
       "                full_time_equivalent_employees              Difference\n",
       "state_name                          New Jersey Pennsylvania           \n",
       "time_name                                                             \n",
       "Before Increase                      20.325156    23.285714  -2.960558\n",
       "After Increase                       21.155469    21.230519  -0.075051\n",
       "Difference                            0.830313    -2.055195   2.885507"
      ]
     },
     "execution_count": 66,
     "metadata": {},
     "output_type": "execute_result"
    }
   ],
   "source": [
    "recreate_table_1(data)"
   ]
  },
  {
   "cell_type": "code",
   "execution_count": 67,
   "metadata": {},
   "outputs": [],
   "source": [
    "base_model = smf.ols(\n",
    "    formula=\"full_time_equivalent_employees ~ 1 + state + time + treatment_dummy\",\n",
    "    data=data,\n",
    "    missing=\"raise\",\n",
    ").fit()\n",
    "\n",
    "base_model_se = base_model.get_robustcov_results(cov_type=\"cluster\", groups=data[\"store_id\"]).bse"
   ]
  },
  {
   "cell_type": "code",
   "execution_count": 68,
   "metadata": {},
   "outputs": [
    {
     "data": {
      "text/html": [
       "<div>\n",
       "<style scoped>\n",
       "    .dataframe tbody tr th:only-of-type {\n",
       "        vertical-align: middle;\n",
       "    }\n",
       "\n",
       "    .dataframe tbody tr th {\n",
       "        vertical-align: top;\n",
       "    }\n",
       "\n",
       "    .dataframe thead th {\n",
       "        text-align: right;\n",
       "    }\n",
       "</style>\n",
       "<table border=\"1\" class=\"dataframe\">\n",
       "  <thead>\n",
       "    <tr style=\"text-align: right;\">\n",
       "      <th></th>\n",
       "      <th>coef</th>\n",
       "      <th>se</th>\n",
       "    </tr>\n",
       "  </thead>\n",
       "  <tbody>\n",
       "    <tr>\n",
       "      <th>Intercept</th>\n",
       "      <td>23.29</td>\n",
       "      <td>1.38</td>\n",
       "    </tr>\n",
       "    <tr>\n",
       "      <th>state</th>\n",
       "      <td>-2.96</td>\n",
       "      <td>1.47</td>\n",
       "    </tr>\n",
       "    <tr>\n",
       "      <th>time</th>\n",
       "      <td>-2.06</td>\n",
       "      <td>1.25</td>\n",
       "    </tr>\n",
       "    <tr>\n",
       "      <th>treatment_dummy</th>\n",
       "      <td>2.89</td>\n",
       "      <td>1.34</td>\n",
       "    </tr>\n",
       "  </tbody>\n",
       "</table>\n",
       "</div>"
      ],
      "text/plain": [
       "                  coef    se\n",
       "Intercept        23.29  1.38\n",
       "state            -2.96  1.47\n",
       "time             -2.06  1.25\n",
       "treatment_dummy   2.89  1.34"
      ]
     },
     "execution_count": 68,
     "metadata": {},
     "output_type": "execute_result"
    }
   ],
   "source": [
    "pd.DataFrame({\"coef\": base_model.params, \"se\": base_model_se}).round(2)"
   ]
  },
  {
   "cell_type": "code",
   "execution_count": 69,
   "metadata": {},
   "outputs": [],
   "source": [
    "def apply_within_transformation(data, id_col, columns_to_demean):\n",
    "    new_data = data.copy()\n",
    "    for column in columns_to_demean:\n",
    "        new_data[column] = new_data.groupby(id_col)[column].transform(lambda x: x - x.mean())\n",
    "    return new_data"
   ]
  },
  {
   "cell_type": "code",
   "execution_count": 70,
   "metadata": {},
   "outputs": [],
   "source": [
    "demeaned_data = apply_within_transformation(data, id_col=\"store_id\", columns_to_demean=(\"full_time_equivalent_employees\", \"treatment_dummy\", \"time\", \"hours_open\"))"
   ]
  },
  {
   "cell_type": "code",
   "execution_count": 71,
   "metadata": {},
   "outputs": [],
   "source": [
    "one_way_fixed_effect_model = smf.ols(\n",
    "    formula=\"full_time_equivalent_employees ~ time + treatment_dummy - 1\",\n",
    "    data=demeaned_data,\n",
    "    missing=\"raise\",\n",
    ").fit()\n",
    "\n",
    "one_way_fixed_effect_model_se = one_way_fixed_effect_model.get_robustcov_results(cov_type=\"cluster\", groups=data[\"store_id\"]).bse"
   ]
  },
  {
   "cell_type": "code",
   "execution_count": 72,
   "metadata": {},
   "outputs": [
    {
     "data": {
      "text/html": [
       "<div>\n",
       "<style scoped>\n",
       "    .dataframe tbody tr th:only-of-type {\n",
       "        vertical-align: middle;\n",
       "    }\n",
       "\n",
       "    .dataframe tbody tr th {\n",
       "        vertical-align: top;\n",
       "    }\n",
       "\n",
       "    .dataframe thead th {\n",
       "        text-align: right;\n",
       "    }\n",
       "</style>\n",
       "<table border=\"1\" class=\"dataframe\">\n",
       "  <thead>\n",
       "    <tr style=\"text-align: right;\">\n",
       "      <th></th>\n",
       "      <th>coef</th>\n",
       "      <th>se</th>\n",
       "    </tr>\n",
       "  </thead>\n",
       "  <tbody>\n",
       "    <tr>\n",
       "      <th>time</th>\n",
       "      <td>-2.06</td>\n",
       "      <td>1.25</td>\n",
       "    </tr>\n",
       "    <tr>\n",
       "      <th>treatment_dummy</th>\n",
       "      <td>2.89</td>\n",
       "      <td>1.34</td>\n",
       "    </tr>\n",
       "  </tbody>\n",
       "</table>\n",
       "</div>"
      ],
      "text/plain": [
       "                 coef    se\n",
       "time            -2.06  1.25\n",
       "treatment_dummy  2.89  1.34"
      ]
     },
     "execution_count": 72,
     "metadata": {},
     "output_type": "execute_result"
    }
   ],
   "source": [
    "pd.DataFrame({\"coef\": one_way_fixed_effect_model.params, \"se\": one_way_fixed_effect_model_se}).round(2)"
   ]
  },
  {
   "cell_type": "code",
   "execution_count": 73,
   "metadata": {},
   "outputs": [],
   "source": [
    "one_way_fixed_effect_model_with_controls = smf.ols(\n",
    "    formula=\"full_time_equivalent_employees ~ time + treatment_dummy + hours_open - 1\",\n",
    "    data=demeaned_data,\n",
    "    missing=\"raise\",\n",
    ").fit()\n",
    "\n",
    "one_way_fixed_effect_model_with_controls_se = one_way_fixed_effect_model_with_controls.get_robustcov_results(cov_type=\"cluster\", groups=data[\"store_id\"]).bse"
   ]
  },
  {
   "cell_type": "code",
   "execution_count": 74,
   "metadata": {},
   "outputs": [
    {
     "data": {
      "text/html": [
       "<div>\n",
       "<style scoped>\n",
       "    .dataframe tbody tr th:only-of-type {\n",
       "        vertical-align: middle;\n",
       "    }\n",
       "\n",
       "    .dataframe tbody tr th {\n",
       "        vertical-align: top;\n",
       "    }\n",
       "\n",
       "    .dataframe thead th {\n",
       "        text-align: right;\n",
       "    }\n",
       "</style>\n",
       "<table border=\"1\" class=\"dataframe\">\n",
       "  <thead>\n",
       "    <tr style=\"text-align: right;\">\n",
       "      <th></th>\n",
       "      <th>coef</th>\n",
       "      <th>se</th>\n",
       "    </tr>\n",
       "  </thead>\n",
       "  <tbody>\n",
       "    <tr>\n",
       "      <th>time</th>\n",
       "      <td>-2.17</td>\n",
       "      <td>1.22</td>\n",
       "    </tr>\n",
       "    <tr>\n",
       "      <th>treatment_dummy</th>\n",
       "      <td>3.00</td>\n",
       "      <td>1.32</td>\n",
       "    </tr>\n",
       "    <tr>\n",
       "      <th>hours_open</th>\n",
       "      <td>1.07</td>\n",
       "      <td>0.34</td>\n",
       "    </tr>\n",
       "  </tbody>\n",
       "</table>\n",
       "</div>"
      ],
      "text/plain": [
       "                 coef    se\n",
       "time            -2.17  1.22\n",
       "treatment_dummy  3.00  1.32\n",
       "hours_open       1.07  0.34"
      ]
     },
     "execution_count": 74,
     "metadata": {},
     "output_type": "execute_result"
    }
   ],
   "source": [
    "pd.DataFrame({\"coef\": one_way_fixed_effect_model_with_controls.params, \"se\": one_way_fixed_effect_model_with_controls_se}).round(2)"
   ]
  },
  {
   "cell_type": "code",
   "execution_count": null,
   "metadata": {},
   "outputs": [],
   "source": []
  },
  {
   "cell_type": "code",
   "execution_count": null,
   "metadata": {},
   "outputs": [],
   "source": []
  },
  {
   "cell_type": "code",
   "execution_count": null,
   "metadata": {},
   "outputs": [],
   "source": []
  },
  {
   "cell_type": "code",
   "execution_count": null,
   "metadata": {},
   "outputs": [],
   "source": []
  },
  {
   "cell_type": "code",
   "execution_count": null,
   "metadata": {},
   "outputs": [],
   "source": []
  },
  {
   "cell_type": "code",
   "execution_count": 78,
   "metadata": {},
   "outputs": [],
   "source": [
    "import jax.numpy as jnp\n",
    "import jax"
   ]
  },
  {
   "cell_type": "code",
   "execution_count": 263,
   "metadata": {},
   "outputs": [],
   "source": [
    "def simulate_data(n_samples, params, seed):\n",
    "    key = jax.random.PRNGKey(seed)\n",
    "\n",
    "    keys = jax.random.split(key, 2)\n",
    "\n",
    "    x = jax.random.uniform(keys[0], (n_samples,))\n",
    "    e = jax.random.normal(keys[1], (n_samples,))\n",
    "\n",
    "    y = params[\"intercept\"] + params[\"slope\"] * x + e\n",
    "\n",
    "    return {\"x\": x, \"y\": y}"
   ]
  },
  {
   "cell_type": "code",
   "execution_count": 264,
   "metadata": {},
   "outputs": [],
   "source": [
    "def ols(x, y):\n",
    "    x = jnp.stack([jnp.ones_like(x), x], axis=1)\n",
    "    return jnp.linalg.lstsq(x, y, rcond=None)[0]"
   ]
  },
  {
   "cell_type": "code",
   "execution_count": 265,
   "metadata": {},
   "outputs": [],
   "source": [
    "import estimagic as em\n",
    "from functools import partial"
   ]
  },
  {
   "cell_type": "code",
   "execution_count": 266,
   "metadata": {},
   "outputs": [],
   "source": [
    "def _log_likelihood(params, data):\n",
    "    y_conditional_mean = params[\"intercept\"] + params[\"slope\"] * data[\"x\"]\n",
    "    return jax.scipy.stats.norm.logpdf(data[\"y\"], loc=y_conditional_mean, scale=1).sum()"
   ]
  },
  {
   "cell_type": "code",
   "execution_count": 267,
   "metadata": {},
   "outputs": [],
   "source": [
    "params = {\"intercept\": 1.0, \"slope\": 2.0}\n"
   ]
  },
  {
   "cell_type": "code",
   "execution_count": 268,
   "metadata": {},
   "outputs": [],
   "source": [
    "data = simulate_data(1_000, params=params, seed=12345)"
   ]
  },
  {
   "cell_type": "code",
   "execution_count": 269,
   "metadata": {},
   "outputs": [],
   "source": [
    "loglike = jax.jit(partial(_log_likelihood, data=data))\n",
    "\n",
    "loglike_grad = jax.jit(jax.grad(loglike))"
   ]
  },
  {
   "cell_type": "code",
   "execution_count": 270,
   "metadata": {},
   "outputs": [],
   "source": [
    "start_params = {\"intercept\": 1.5, \"slope\": 1.5}"
   ]
  },
  {
   "cell_type": "code",
   "execution_count": 271,
   "metadata": {},
   "outputs": [
    {
     "data": {
      "text/plain": [
       "Array(-1447.5132, dtype=float32)"
      ]
     },
     "execution_count": 271,
     "metadata": {},
     "output_type": "execute_result"
    }
   ],
   "source": [
    "loglike(start_params)"
   ]
  },
  {
   "cell_type": "code",
   "execution_count": 272,
   "metadata": {},
   "outputs": [
    {
     "data": {
      "text/plain": [
       "{'intercept': Array(-281.86456, dtype=float32, weak_type=True),\n",
       " 'slope': Array(-101.01553, dtype=float32, weak_type=True)}"
      ]
     },
     "execution_count": 272,
     "metadata": {},
     "output_type": "execute_result"
    }
   ],
   "source": [
    "loglike_grad(start_params)"
   ]
  },
  {
   "cell_type": "code",
   "execution_count": 273,
   "metadata": {},
   "outputs": [],
   "source": [
    "res = em.maximize(\n",
    "    criterion=loglike,\n",
    "    params=start_params,\n",
    "    algorithm=\"scipy_lbfgsb\",\n",
    "    derivative=loglike_grad,\n",
    ")"
   ]
  },
  {
   "cell_type": "code",
   "execution_count": 274,
   "metadata": {},
   "outputs": [
    {
     "name": "stderr",
     "output_type": "stream",
     "text": [
      "/home/tim/miniforge3/envs/metrics/lib/python3.12/site-packages/estimagic/optimization/optimize_result.py:131: FutureWarning: DataFrame.applymap has been deprecated. Use DataFrame.map instead.\n",
      "  table = report[columns].applymap(_format_float).astype(str)\n"
     ]
    },
    {
     "data": {
      "text/plain": [
       "Maximize with 2 free parameters terminated successfully after 7 criterion evaluations, 7 derivative evaluations and 4 iterations.\n",
       "\n",
       "The value of criterion improved from -1447.51318359375 to -1397.094482421875.\n",
       "\n",
       "The scipy_lbfgsb algorithm reported: CONVERGENCE: REL_REDUCTION_OF_F_<=_FACTR*EPSMCH\n",
       "\n",
       "Independent of the convergence criteria used by scipy_lbfgsb, the strength of convergence can be assessed by the following criteria:\n",
       "\n",
       "                             one_step    five_steps\n",
       "relative_criterion_change          0***  0.03609   \n",
       "relative_params_change     2.417e-07*     0.6241   \n",
       "absolute_criterion_change          0***    50.42   \n",
       "absolute_params_change      4.41e-07*     0.7518   \n",
       "\n",
       "(***: change <= 1e-10, **: change <= 1e-8, *: change <= 1e-5. Change refers to a change between accepted steps. The first column only considers the last step. The second column considers the last five steps.)"
      ]
     },
     "execution_count": 274,
     "metadata": {},
     "output_type": "execute_result"
    }
   ],
   "source": [
    "res"
   ]
  },
  {
   "cell_type": "code",
   "execution_count": 275,
   "metadata": {},
   "outputs": [
    {
     "data": {
      "text/plain": [
       "{'intercept': 0.9562211893581772, 'slope': 2.019075223036825}"
      ]
     },
     "execution_count": 275,
     "metadata": {},
     "output_type": "execute_result"
    }
   ],
   "source": [
    "res.params"
   ]
  },
  {
   "cell_type": "code",
   "execution_count": null,
   "metadata": {},
   "outputs": [],
   "source": []
  }
 ],
 "metadata": {
  "kernelspec": {
   "display_name": "metrics",
   "language": "python",
   "name": "python3"
  },
  "language_info": {
   "codemirror_mode": {
    "name": "ipython",
    "version": 3
   },
   "file_extension": ".py",
   "mimetype": "text/x-python",
   "name": "python",
   "nbconvert_exporter": "python",
   "pygments_lexer": "ipython3",
   "version": "3.12.0"
  }
 },
 "nbformat": 4,
 "nbformat_minor": 2
}
