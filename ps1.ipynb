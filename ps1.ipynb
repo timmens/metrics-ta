{
 "cells": [
  {
   "cell_type": "markdown",
   "id": "6dec9e0f-49cc-4efc-82a4-a3509b06c9a7",
   "metadata": {
    "tags": []
   },
   "source": [
    "# Problem Set 1\n",
    "\n",
    "Solutions to Computational Problems "
   ]
  },
  {
   "cell_type": "markdown",
   "id": "98340e5b-f1ae-452d-a368-9706a954fb8b",
   "metadata": {},
   "source": [
    "## Problem 2"
   ]
  },
  {
   "cell_type": "code",
   "execution_count": 1,
   "id": "76241ccb-68ee-4948-8150-137832649f7d",
   "metadata": {},
   "outputs": [],
   "source": [
    "import numpy as np\n",
    "import pandas as pd"
   ]
  },
  {
   "cell_type": "code",
   "execution_count": 2,
   "id": "053cead9-2578-4d9b-a428-2033db9748a3",
   "metadata": {
    "tags": []
   },
   "outputs": [],
   "source": [
    "data = pd.read_feather(\"data/angrist_and_evans.feather\")"
   ]
  },
  {
   "cell_type": "markdown",
   "id": "dd75abfc-0efe-4ea7-abe4-77369b10fb4e",
   "metadata": {},
   "source": [
    "> If you don't have the data stored as a feather file you can use\n",
    "> ```python\n",
    "> pd.read_excel(\"path/to/excel/file\")\n",
    "> ```"
   ]
  },
  {
   "cell_type": "code",
   "execution_count": 3,
   "id": "6c0f244f-98c6-4d2a-979c-80247372e323",
   "metadata": {
    "tags": []
   },
   "outputs": [],
   "source": [
    "dependent_variables_info = {\n",
    "    \"workedm\": \"Worked for pay\",\n",
    "    \"weeksm1\": \"Weeks worked\",\n",
    "    \"hourswm\": \"Hours worked\",\n",
    "    \"incomem\": \"Labor income\",\n",
    "    \"famincl\": \"Log family income\",\n",
    "}\n",
    "\n",
    "independent_variables = [\n",
    "    \"morekids\",\n",
    "    \"agem1\",\n",
    "    \"agefstm\",\n",
    "    \"boy1st\",\n",
    "    \"boy2nd\",\n",
    "    \"blackm\",\n",
    "    \"hispm\",\n",
    "    \"othracem\",\n",
    "]\n",
    "\n",
    "instrumental_mapping = {\"morekids\": \"samesex\"}"
   ]
  },
  {
   "cell_type": "markdown",
   "id": "3fc8a0bc-929c-4833-9ed5-17114e1b8e62",
   "metadata": {
    "tags": []
   },
   "source": [
    "### Functions"
   ]
  },
  {
   "cell_type": "code",
   "execution_count": 4,
   "id": "cc8f3c52-52c4-42fd-a176-dc7f686957a6",
   "metadata": {
    "tags": []
   },
   "outputs": [],
   "source": [
    "def _cov_sandwich_estimator_ols(x, e):\n",
    "    xtx_inverse = np.linalg.pinv(x.T @ x)\n",
    "    scaling = (x.T * e**2) @ x\n",
    "    return xtx_inverse @ scaling @ xtx_inverse\n",
    "\n",
    "\n",
    "def _cov_sandwich_estimator_iv(x, z, e):\n",
    "    ztz_inv = np.linalg.pinv(z.T @ z)\n",
    "    ztx = z.T @ x\n",
    "    xtz = ztx.T\n",
    "    outer = np.linalg.pinv(xtz @ ztz_inv @ ztx) @ xtz @ ztz_inv\n",
    "    scaling = (z.T * e**2) @ z\n",
    "    return outer @ scaling @ outer.T\n",
    "\n",
    "\n",
    "def _format_frame(result_data, name):\n",
    "    str_repr = [_format_entries(*row[1]) for row in result_data.iterrows()]\n",
    "    return pd.DataFrame(str_repr, index=result_data.index, columns=[name])\n",
    "\n",
    "\n",
    "def _format_entries(coef, se):\n",
    "    return f\"{coef:.4f} ({se:.4f})\""
   ]
  },
  {
   "cell_type": "markdown",
   "id": "f2e403e1-8228-43ae-ad34-4bb0d3a30373",
   "metadata": {},
   "source": [
    "### OLS"
   ]
  },
  {
   "cell_type": "code",
   "execution_count": 5,
   "id": "42939fe2-53e1-4632-9d58-941bb351bf73",
   "metadata": {
    "tags": []
   },
   "outputs": [],
   "source": [
    "y = data[dependent_variables_info.keys()]"
   ]
  },
  {
   "cell_type": "code",
   "execution_count": 6,
   "id": "a2e8922d-d700-4cf4-94e8-f9544a5c44df",
   "metadata": {
    "tags": []
   },
   "outputs": [],
   "source": [
    "features = data[independent_variables]\n",
    "# add intercept\n",
    "x = np.column_stack([np.ones(len(data)), features])"
   ]
  },
  {
   "cell_type": "code",
   "execution_count": 7,
   "id": "38ff057f-5a15-4e12-bf41-2b1b08448dd0",
   "metadata": {
    "tags": []
   },
   "outputs": [],
   "source": [
    "coef, *_ = np.linalg.lstsq(x, y, rcond=None)"
   ]
  },
  {
   "cell_type": "code",
   "execution_count": 8,
   "id": "1bd16ac3-a614-4a00-b895-46c87a3e2719",
   "metadata": {
    "tags": []
   },
   "outputs": [],
   "source": [
    "coef = pd.DataFrame(\n",
    "    coef,\n",
    "    index=[\"intercept\", *independent_variables],\n",
    "    columns=y.columns,\n",
    ")"
   ]
  },
  {
   "cell_type": "code",
   "execution_count": 9,
   "id": "5443db5f-20db-45e3-aa43-99c3fb0d3cb5",
   "metadata": {
    "tags": []
   },
   "outputs": [],
   "source": [
    "residuals = y - x @ coef\n",
    "\n",
    "cov = {\n",
    "    outcome: _cov_sandwich_estimator_ols(x, e=residuals[outcome].to_numpy().flatten())\n",
    "    for outcome in dependent_variables_info\n",
    "}\n",
    "\n",
    "se = {\n",
    "    outcome: pd.Series(np.sqrt(np.diag(_cov)), index=coef.index)\n",
    "    for outcome, _cov in cov.items()\n",
    "}\n",
    "\n",
    "se = pd.DataFrame(se, columns=y.columns)"
   ]
  },
  {
   "cell_type": "code",
   "execution_count": 10,
   "id": "6445fa26-dae3-46da-9828-aa3b3c32e874",
   "metadata": {
    "tags": []
   },
   "outputs": [],
   "source": [
    "result_ols = pd.concat(\n",
    "    [coef.loc[\"morekids\"], se.loc[\"morekids\"]],\n",
    "    axis=1,\n",
    "    keys=[\"coef\", \"se\"],\n",
    ")\n",
    "\n",
    "result_ols = result_ols.rename(mapper=dependent_variables_info, axis=0)\n",
    "result_ols = _format_frame(result_ols, name=\"ols\")"
   ]
  },
  {
   "cell_type": "markdown",
   "id": "b8709ce3-bf3f-41f8-a306-334f1ef6ef66",
   "metadata": {},
   "source": [
    "## IV "
   ]
  },
  {
   "cell_type": "code",
   "execution_count": 11,
   "id": "2734c49c-5ba6-45e4-8d05-0401ead4c5e7",
   "metadata": {
    "tags": []
   },
   "outputs": [],
   "source": [
    "instruments_names = [\n",
    "    instrumental_mapping.get(var, var) for var in independent_variables\n",
    "]\n",
    "instruments = data[instruments_names]\n",
    "\n",
    "# add intercept\n",
    "z = np.column_stack([np.ones(len(data)), instruments])"
   ]
  },
  {
   "cell_type": "code",
   "execution_count": 12,
   "id": "84d441ea-249b-4818-8c6c-25d00ecd0090",
   "metadata": {
    "tags": []
   },
   "outputs": [],
   "source": [
    "# first stage\n",
    "\n",
    "first_stage_coef, *_ = np.linalg.lstsq(z, x, rcond=None)\n",
    "x_predicted = z @ first_stage_coef\n",
    "\n",
    "# second stage\n",
    "\n",
    "coef, *_ = np.linalg.lstsq(x_predicted, y, rcond=None)"
   ]
  },
  {
   "cell_type": "code",
   "execution_count": 13,
   "id": "4618b3fd-ddc3-430c-81ae-3f59cb72c143",
   "metadata": {
    "tags": []
   },
   "outputs": [],
   "source": [
    "coef = pd.DataFrame(\n",
    "    coef,\n",
    "    index=[\"intercept\", *independent_variables],\n",
    "    columns=y.columns,\n",
    ")"
   ]
  },
  {
   "cell_type": "code",
   "execution_count": 14,
   "id": "b825b476-aec3-435c-a049-b30cb5898ce3",
   "metadata": {
    "tags": []
   },
   "outputs": [],
   "source": [
    "residuals = y - x @ coef\n",
    "\n",
    "cov = {\n",
    "    outcome: _cov_sandwich_estimator_iv(x, z, e=residuals[outcome].to_numpy().flatten())\n",
    "    for outcome in dependent_variables_info\n",
    "}\n",
    "\n",
    "se = {\n",
    "    outcome: pd.Series(np.sqrt(np.diag(_cov)), index=coef.index)\n",
    "    for outcome, _cov in cov.items()\n",
    "}\n",
    "\n",
    "se = pd.DataFrame(se, columns=y.columns)"
   ]
  },
  {
   "cell_type": "code",
   "execution_count": 15,
   "id": "3515250f-dd46-49ba-a1a1-60450b0aa1c5",
   "metadata": {
    "tags": []
   },
   "outputs": [],
   "source": [
    "result_iv = pd.concat(\n",
    "    [coef.loc[\"morekids\"], se.loc[\"morekids\"]],\n",
    "    axis=1,\n",
    "    keys=[\"coef\", \"se\"],\n",
    ")\n",
    "\n",
    "result_iv = result_iv.rename(mapper=dependent_variables_info, axis=0)\n",
    "result_iv = _format_frame(result_iv, name=\"iv\")"
   ]
  },
  {
   "cell_type": "markdown",
   "id": "57e73c87-3084-4b5b-9b02-57a88a156043",
   "metadata": {},
   "source": [
    "### Result"
   ]
  },
  {
   "cell_type": "code",
   "execution_count": 16,
   "id": "a49d4b35-0dce-4cd9-9be1-87f3c0f105fc",
   "metadata": {
    "tags": []
   },
   "outputs": [],
   "source": [
    "result = pd.concat([result_ols, result_iv], axis=1)"
   ]
  },
  {
   "cell_type": "code",
   "execution_count": 17,
   "id": "0bcde880-c7c5-46b2-81b3-c356ac98c8ba",
   "metadata": {
    "tags": []
   },
   "outputs": [
    {
     "data": {
      "text/html": [
       "<div>\n",
       "<style scoped>\n",
       "    .dataframe tbody tr th:only-of-type {\n",
       "        vertical-align: middle;\n",
       "    }\n",
       "\n",
       "    .dataframe tbody tr th {\n",
       "        vertical-align: top;\n",
       "    }\n",
       "\n",
       "    .dataframe thead th {\n",
       "        text-align: right;\n",
       "    }\n",
       "</style>\n",
       "<table border=\"1\" class=\"dataframe\">\n",
       "  <thead>\n",
       "    <tr style=\"text-align: right;\">\n",
       "      <th></th>\n",
       "      <th>ols</th>\n",
       "      <th>iv</th>\n",
       "    </tr>\n",
       "  </thead>\n",
       "  <tbody>\n",
       "    <tr>\n",
       "      <th>Worked for pay</th>\n",
       "      <td>-0.1764 (0.0016)</td>\n",
       "      <td>-0.1173 (0.0252)</td>\n",
       "    </tr>\n",
       "    <tr>\n",
       "      <th>Weeks worked</th>\n",
       "      <td>-8.9782 (0.0706)</td>\n",
       "      <td>-5.5588 (1.1178)</td>\n",
       "    </tr>\n",
       "    <tr>\n",
       "      <th>Hours worked</th>\n",
       "      <td>-6.6467 (0.0610)</td>\n",
       "      <td>-4.5468 (0.9536)</td>\n",
       "    </tr>\n",
       "    <tr>\n",
       "      <th>Labor income</th>\n",
       "      <td>-3762.3826 (34.4127)</td>\n",
       "      <td>-1902.9526 (546.4186)</td>\n",
       "    </tr>\n",
       "    <tr>\n",
       "      <th>Log family income</th>\n",
       "      <td>-0.1379 (0.0045)</td>\n",
       "      <td>-0.0253 (0.0683)</td>\n",
       "    </tr>\n",
       "  </tbody>\n",
       "</table>\n",
       "</div>"
      ],
      "text/plain": [
       "                                    ols                     iv\n",
       "Worked for pay         -0.1764 (0.0016)       -0.1173 (0.0252)\n",
       "Weeks worked           -8.9782 (0.0706)       -5.5588 (1.1178)\n",
       "Hours worked           -6.6467 (0.0610)       -4.5468 (0.9536)\n",
       "Labor income       -3762.3826 (34.4127)  -1902.9526 (546.4186)\n",
       "Log family income      -0.1379 (0.0045)       -0.0253 (0.0683)"
      ]
     },
     "execution_count": 17,
     "metadata": {},
     "output_type": "execute_result"
    }
   ],
   "source": [
    "result  # noqa: B018"
   ]
  },
  {
   "cell_type": "markdown",
   "id": "7844b5b8-201b-41e5-9e6e-63c1b68ef58a",
   "metadata": {},
   "source": [
    "## Problem 4"
   ]
  },
  {
   "cell_type": "code",
   "execution_count": 18,
   "id": "23cb160a-092a-41e0-9503-5b36ff501ed1",
   "metadata": {
    "tags": []
   },
   "outputs": [],
   "source": [
    "from functools import partial\n",
    "\n",
    "import numpy as np\n",
    "import pandas as pd\n",
    "from joblib import Parallel, delayed"
   ]
  },
  {
   "cell_type": "code",
   "execution_count": 19,
   "id": "a5253142-9676-4567-8da7-daf80d82ede7",
   "metadata": {},
   "outputs": [],
   "source": [
    "def _simulate_model(gamma, beta, n_samples, n_sim, rng):\n",
    "    mean = np.array([1, 0, 0])\n",
    "    cov = np.array(\n",
    "        [\n",
    "            [1, 0, 0],\n",
    "            [0, 1, 0.8],\n",
    "            [0, 0.8, 1],\n",
    "        ],\n",
    "    )\n",
    "\n",
    "    mvnormal = rng.multivariate_normal(mean=mean, cov=cov, size=(n_samples, n_sim))\n",
    "\n",
    "    z, e, v = mvnormal.swapaxes(0, 2)\n",
    "\n",
    "    x = z * gamma + v\n",
    "    y = x * beta + e\n",
    "\n",
    "    return y, x, z"
   ]
  },
  {
   "cell_type": "code",
   "execution_count": null,
   "id": "e4fbcbea-c028-47c2-b3d7-f6d256272d15",
   "metadata": {
    "tags": []
   },
   "outputs": [],
   "source": []
  },
  {
   "cell_type": "code",
   "execution_count": 20,
   "id": "c7bc0223-f49c-4683-acc0-f2fbde08219e",
   "metadata": {
    "tags": []
   },
   "outputs": [],
   "source": [
    "def _ols_1d(y, x):\n",
    "    return np.sum(x * y, axis=1) / np.sum(x**2, axis=1)"
   ]
  },
  {
   "cell_type": "code",
   "execution_count": 21,
   "id": "ca36e267-ac25-4046-b226-dbfa45a734ea",
   "metadata": {
    "tags": []
   },
   "outputs": [],
   "source": [
    "def _ols_coef_and_se(y, x):\n",
    "    coef = np.sum(x * y, axis=1) / np.sum(x**2, axis=1)\n",
    "    residuals = y - x * coef.reshape(-1, 1)\n",
    "    var = np.mean(residuals**2, axis=1) / np.sum(x**2, axis=1)\n",
    "    return coef, np.sqrt(var)"
   ]
  },
  {
   "cell_type": "code",
   "execution_count": 22,
   "id": "aa647504-7101-4947-ae7c-d1e364e26475",
   "metadata": {
    "tags": []
   },
   "outputs": [],
   "source": [
    "def _iv_coef_and_se(y, x, z):\n",
    "    coef = np.sum(z * y, axis=1) / np.sum(z * x, axis=1)\n",
    "    residuals = y - x * coef.reshape(-1, 1)\n",
    "    var = (\n",
    "        np.sum(z * x, axis=1) ** (-2)\n",
    "        * np.sum(z**2, axis=1)\n",
    "        * np.mean(residuals**2, axis=1)\n",
    "    )\n",
    "    return coef, np.sqrt(var)"
   ]
  },
  {
   "cell_type": "code",
   "execution_count": 23,
   "id": "1b11a58d-ca8c-429d-aa86-c1a763ff0e80",
   "metadata": {
    "tags": []
   },
   "outputs": [],
   "source": [
    "def _coverage(lower, upper, true):\n",
    "    return np.mean(np.logical_and(lower < true, true < upper))"
   ]
  },
  {
   "cell_type": "code",
   "execution_count": 24,
   "id": "b44bf3b1-4705-47ce-b341-953910028feb",
   "metadata": {
    "tags": []
   },
   "outputs": [],
   "source": [
    "rng = np.random.default_rng(12345)\n",
    "\n",
    "gamma_grid = np.linspace(0, 5 / 25, num=6)\n",
    "\n",
    "\n",
    "def simulate(gamma, n_samples):\n",
    "    simulate_from_model = partial(\n",
    "        _simulate_model,\n",
    "        n_samples=n_samples,\n",
    "        beta=1,\n",
    "    )\n",
    "\n",
    "    y, x, z = simulate_from_model(gamma=gamma, n_sim=10_000, rng=rng)\n",
    "\n",
    "    beta_estimate_ols = _ols_1d(y, x)\n",
    "\n",
    "    beta_estimate_iv, beta_estimate_se_iv = _iv_coef_and_se(y, x, z)\n",
    "\n",
    "    lower = beta_estimate_iv - 1.96 * beta_estimate_se_iv\n",
    "\n",
    "    upper = beta_estimate_iv + 1.96 * beta_estimate_se_iv\n",
    "\n",
    "    coverage = np.logical_and(lower < 1, upper > 1)\n",
    "\n",
    "    gamma_estimate, gamma_se = _ols_coef_and_se(x, z)\n",
    "\n",
    "    f_test_iv = (gamma_estimate / gamma_se) ** 2\n",
    "    f_test_iv_larger_10 = f_test_iv > 10\n",
    "\n",
    "    _result = {\n",
    "        \"beta_estimate_ols\": beta_estimate_ols,\n",
    "        \"beta_estimate_iv\": beta_estimate_iv,\n",
    "        \"beta_estimate_se_iv\": beta_estimate_se_iv,\n",
    "        \"coverage\": coverage,\n",
    "        \"gamma_estimate\": gamma_estimate,\n",
    "        \"gamma_se\": gamma_se,\n",
    "        \"f_test_iv\": f_test_iv,\n",
    "        \"f_test_iv_larger_10\": f_test_iv_larger_10,\n",
    "    }\n",
    "\n",
    "    _result = pd.DataFrame(_result).mean(axis=0)\n",
    "\n",
    "    idx_f_test_larger_10 = np.where(f_test_iv_larger_10)[0]\n",
    "\n",
    "    _result[\"conditional_coverage\"] = coverage[idx_f_test_larger_10].mean()\n",
    "\n",
    "    return _result"
   ]
  },
  {
   "cell_type": "code",
   "execution_count": null,
   "id": "51cbef1f-8ade-41d0-8018-9d62e7f81467",
   "metadata": {
    "tags": []
   },
   "outputs": [],
   "source": [
    "result = Parallel(n_jobs=len(gamma_grid))(\n",
    "    delayed(simulate)(gamma, n_samples=2_500) for gamma in gamma_grid\n",
    ")"
   ]
  },
  {
   "cell_type": "code",
   "execution_count": null,
   "id": "df38e909-e8ae-45b4-9ee4-2d8a410286d6",
   "metadata": {
    "tags": []
   },
   "outputs": [],
   "source": [
    "result = pd.DataFrame(result, index=gamma_grid).T"
   ]
  },
  {
   "cell_type": "code",
   "execution_count": null,
   "id": "d7dfe149-006c-4508-ba5d-2a763df244e5",
   "metadata": {
    "tags": []
   },
   "outputs": [],
   "source": [
    "result.round(3)"
   ]
  }
 ],
 "metadata": {
  "kernelspec": {
   "display_name": "Python 3 (ipykernel)",
   "language": "python",
   "name": "python3"
  },
  "language_info": {
   "codemirror_mode": {
    "name": "ipython",
    "version": 3
   },
   "file_extension": ".py",
   "mimetype": "text/x-python",
   "name": "python",
   "nbconvert_exporter": "python",
   "pygments_lexer": "ipython3",
   "version": "3.11.3"
  }
 },
 "nbformat": 4,
 "nbformat_minor": 5
}
