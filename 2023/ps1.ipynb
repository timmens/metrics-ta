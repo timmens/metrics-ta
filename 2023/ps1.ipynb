{
 "cells": [
  {
   "cell_type": "markdown",
   "id": "6dec9e0f-49cc-4efc-82a4-a3509b06c9a7",
   "metadata": {
    "tags": []
   },
   "source": [
    "# Problem Set 1\n",
    "\n",
    "Solutions to Computational Problems "
   ]
  },
  {
   "cell_type": "markdown",
   "id": "98340e5b-f1ae-452d-a368-9706a954fb8b",
   "metadata": {},
   "source": [
    "## Problem 2"
   ]
  },
  {
   "cell_type": "code",
   "execution_count": 30,
   "id": "76241ccb-68ee-4948-8150-137832649f7d",
   "metadata": {},
   "outputs": [],
   "source": [
    "import numpy as np\n",
    "import pandas as pd"
   ]
  },
  {
   "cell_type": "code",
   "execution_count": 31,
   "id": "053cead9-2578-4d9b-a428-2033db9748a3",
   "metadata": {
    "tags": []
   },
   "outputs": [],
   "source": [
    "data = pd.read_feather(\"data/angrist_and_evans.feather\")"
   ]
  },
  {
   "cell_type": "markdown",
   "id": "dd75abfc-0efe-4ea7-abe4-77369b10fb4e",
   "metadata": {},
   "source": [
    "> If you don't have the data stored as a feather file you can use\n",
    "> ```python\n",
    "> pd.read_excel(\"path/to/excel/file\")\n",
    "> ```"
   ]
  },
  {
   "cell_type": "code",
   "execution_count": 32,
   "id": "6c0f244f-98c6-4d2a-979c-80247372e323",
   "metadata": {
    "tags": []
   },
   "outputs": [],
   "source": [
    "dependent_variables_info = {\n",
    "    \"workedm\": \"Worked for pay\",\n",
    "    \"weeksm1\": \"Weeks worked\",\n",
    "    \"hourswm\": \"Hours worked\",\n",
    "    \"incomem\": \"Labor income\",\n",
    "    \"famincl\": \"Log family income\",\n",
    "}\n",
    "\n",
    "independent_variables = [\n",
    "    \"morekids\",\n",
    "    \"agem1\",\n",
    "    \"agefstm\",\n",
    "    \"boy1st\",\n",
    "    \"boy2nd\",\n",
    "    \"blackm\",\n",
    "    \"hispm\",\n",
    "    \"othracem\",\n",
    "]\n",
    "\n",
    "instrumental_mapping = {\"morekids\": \"samesex\"}"
   ]
  },
  {
   "cell_type": "markdown",
   "id": "3fc8a0bc-929c-4833-9ed5-17114e1b8e62",
   "metadata": {
    "tags": []
   },
   "source": [
    "### Functions"
   ]
  },
  {
   "cell_type": "code",
   "execution_count": 33,
   "id": "cc8f3c52-52c4-42fd-a176-dc7f686957a6",
   "metadata": {
    "tags": []
   },
   "outputs": [],
   "source": [
    "def _cov_sandwich_estimator_ols(x: np.ndarray, e: np.ndarray) -> np.ndarray:\n",
    "    r\"\"\"Estimator for the asymptotic covariance matrix of OLS estimator.\n",
    "\n",
    "    The code corresponds to the HC0 estimator of $V_\\hat{\\beta}}$. For reference see\n",
    "    Section 7.8 in Econometrics by Bruce Hansen (version January 29, 2021).\n",
    "\n",
    "    Args:\n",
    "        x (np.ndarray): Regressors, shape (n, p).\n",
    "        e (np.ndarray): Residuals, shape (n,)\n",
    "\n",
    "    Returns:\n",
    "        np.ndarray: Asymptotic covariance matrix, shape (p, p)\n",
    "\n",
    "    \"\"\"\n",
    "    xtx_inverse = np.linalg.pinv(x.T @ x)\n",
    "    scaling = (x.T * e**2) @ x\n",
    "    return xtx_inverse @ scaling @ xtx_inverse\n",
    "\n",
    "\n",
    "def _cov_sandwich_estimator_iv(\n",
    "    x: np.ndarray,\n",
    "    z: np.ndarray,\n",
    "    e: np.ndarray,\n",
    ") -> np.ndarray:\n",
    "    r\"\"\"Estimator for the asymptotic covariance matrix of 2SLS IV estimator.\n",
    "\n",
    "    The code corresponds to the heteroskedasticity-robust estimator of $V_\\\\hat{\\beta}}$\n",
    "    For reference see Section 12.18 in Econometrics by Bruce Hansen (version January 29,\n",
    "    2021).\n",
    "\n",
    "    Args:\n",
    "        x (np.ndarray): Regressors, shape (n, p).\n",
    "        z (np.ndarray): Instruments, shape (n, p).\n",
    "        e (np.ndarray): Residuals, shape (n,)\n",
    "\n",
    "    Returns:\n",
    "        np.ndarray: Asymptotic covariance matrix, shape (p, p)\n",
    "\n",
    "    \"\"\"\n",
    "    ztz_inv = np.linalg.pinv(z.T @ z)\n",
    "    ztx = z.T @ x\n",
    "    xtz = ztx.T\n",
    "    outer = np.linalg.pinv(xtz @ ztz_inv @ ztx) @ xtz @ ztz_inv\n",
    "    scaling = (z.T * e**2) @ z\n",
    "    return outer @ scaling @ outer.T\n",
    "\n",
    "\n",
    "def _format_entries(coef: str, se: str) -> str:\n",
    "    \"\"\"Paste together two strings.\"\"\"\n",
    "    return f\"{coef:.4f} ({se:.4f})\"\n",
    "\n",
    "\n",
    "def _format_frame(result_frame: pd.DataFrame, name: str) -> pd.DataFrame:\n",
    "    \"\"\"Format coef and se column to single.\n",
    "\n",
    "    Args:\n",
    "        result_frame (pd.DataFrame): Result frame; has columns only \"coef\" and \"se\".\n",
    "        name (str): Name of the new column.\n",
    "\n",
    "    Returns:\n",
    "        pd.DataFrame: Formatted frame.\n",
    "\n",
    "    \"\"\"\n",
    "    str_repr = [_format_entries(*row[1]) for row in result_frame.iterrows()]\n",
    "    return pd.DataFrame(str_repr, index=result_frame.index, columns=[name])"
   ]
  },
  {
   "cell_type": "markdown",
   "id": "f2e403e1-8228-43ae-ad34-4bb0d3a30373",
   "metadata": {},
   "source": [
    "### OLS"
   ]
  },
  {
   "cell_type": "code",
   "execution_count": 34,
   "id": "42939fe2-53e1-4632-9d58-941bb351bf73",
   "metadata": {
    "tags": []
   },
   "outputs": [],
   "source": [
    "# get y and x from data\n",
    "\n",
    "\n",
    "y = data[dependent_variables_info.keys()]\n",
    "\n",
    "features = data[independent_variables]\n",
    "\n",
    "# add intercept\n",
    "x = np.column_stack([np.ones(len(data)), features])"
   ]
  },
  {
   "cell_type": "code",
   "execution_count": 35,
   "id": "38ff057f-5a15-4e12-bf41-2b1b08448dd0",
   "metadata": {
    "tags": []
   },
   "outputs": [],
   "source": [
    "# run least squares regression for each dependent variable\n",
    "\n",
    "coef_ols, *_ = np.linalg.lstsq(x, y, rcond=None)"
   ]
  },
  {
   "cell_type": "code",
   "execution_count": 36,
   "id": "1bd16ac3-a614-4a00-b895-46c87a3e2719",
   "metadata": {
    "tags": []
   },
   "outputs": [],
   "source": [
    "# store the result with correct index and column names\n",
    "\n",
    "coef_ols = pd.DataFrame(\n",
    "    coef_ols,\n",
    "    index=[\"intercept\", *independent_variables],\n",
    "    columns=y.columns,\n",
    ")"
   ]
  },
  {
   "cell_type": "code",
   "execution_count": 37,
   "id": "5443db5f-20db-45e3-aa43-99c3fb0d3cb5",
   "metadata": {
    "tags": []
   },
   "outputs": [],
   "source": [
    "# compute standard errors for each dependent variable\n",
    "\n",
    "residuals = y - x @ coef_ols\n",
    "\n",
    "se_ols = {}\n",
    "\n",
    "for outcome in dependent_variables_info:\n",
    "    residual_array = residuals[outcome].to_numpy().flatten()\n",
    "\n",
    "    cov = _cov_sandwich_estimator_ols(x, e=residual_array)\n",
    "\n",
    "    se_ols[outcome] = pd.Series(np.sqrt(np.diag(cov)), index=coef_ols.index)\n",
    "\n",
    "\n",
    "se_ols = pd.DataFrame(se_ols, columns=y.columns)"
   ]
  },
  {
   "cell_type": "code",
   "execution_count": 38,
   "id": "6445fa26-dae3-46da-9828-aa3b3c32e874",
   "metadata": {
    "tags": []
   },
   "outputs": [],
   "source": [
    "# combine coefficients and standard error in one frame\n",
    "\n",
    "result_ols = pd.concat(\n",
    "    [coef_ols.loc[\"morekids\"], se_ols.loc[\"morekids\"]],\n",
    "    axis=1,\n",
    "    keys=[\"coef\", \"se\"],\n",
    ")\n",
    "\n",
    "result_ols = result_ols.rename(mapper=dependent_variables_info, axis=0)\n",
    "\n",
    "result_ols = _format_frame(result_ols, name=\"ols\")"
   ]
  },
  {
   "cell_type": "markdown",
   "id": "b8709ce3-bf3f-41f8-a306-334f1ef6ef66",
   "metadata": {},
   "source": [
    "## IV "
   ]
  },
  {
   "cell_type": "code",
   "execution_count": 39,
   "id": "2734c49c-5ba6-45e4-8d05-0401ead4c5e7",
   "metadata": {
    "tags": []
   },
   "outputs": [],
   "source": [
    "# get z from data (y and x are already defined)\n",
    "\n",
    "instruments_names = [\n",
    "    instrumental_mapping.get(var, var) for var in independent_variables\n",
    "]\n",
    "\n",
    "instruments = data[instruments_names]\n",
    "\n",
    "# add intercept\n",
    "z = np.column_stack([np.ones(len(data)), instruments])"
   ]
  },
  {
   "cell_type": "code",
   "execution_count": 40,
   "id": "84d441ea-249b-4818-8c6c-25d00ecd0090",
   "metadata": {
    "tags": []
   },
   "outputs": [],
   "source": [
    "# run two-stage least squares regression\n",
    "\n",
    "# first stage\n",
    "\n",
    "first_stage_coef, *_ = np.linalg.lstsq(z, x, rcond=None)\n",
    "x_predicted = z @ first_stage_coef\n",
    "\n",
    "# second stage\n",
    "\n",
    "coef_iv, *_ = np.linalg.lstsq(x_predicted, y, rcond=None)"
   ]
  },
  {
   "cell_type": "code",
   "execution_count": 41,
   "id": "4618b3fd-ddc3-430c-81ae-3f59cb72c143",
   "metadata": {
    "tags": []
   },
   "outputs": [],
   "source": [
    "# store the result with the correct index and column names\n",
    "\n",
    "coef_iv = pd.DataFrame(\n",
    "    coef_iv,\n",
    "    index=[\"intercept\", *independent_variables],\n",
    "    columns=y.columns,\n",
    ")"
   ]
  },
  {
   "cell_type": "code",
   "execution_count": 42,
   "id": "b825b476-aec3-435c-a049-b30cb5898ce3",
   "metadata": {
    "tags": []
   },
   "outputs": [],
   "source": [
    "# compute standard errors for each dependent variable\n",
    "\n",
    "residuals = y - x @ coef_ols\n",
    "\n",
    "se_iv = {}\n",
    "\n",
    "for outcome in dependent_variables_info:\n",
    "    residual_array = residuals[outcome].to_numpy().flatten()\n",
    "\n",
    "    cov = _cov_sandwich_estimator_iv(x, z=z, e=residual_array)\n",
    "\n",
    "    se_iv[outcome] = pd.Series(np.sqrt(np.diag(cov)), index=coef_ols.index)\n",
    "\n",
    "\n",
    "se_iv = pd.DataFrame(se_iv, columns=y.columns)"
   ]
  },
  {
   "cell_type": "code",
   "execution_count": 43,
   "id": "3515250f-dd46-49ba-a1a1-60450b0aa1c5",
   "metadata": {
    "tags": []
   },
   "outputs": [],
   "source": [
    "# combine coefficients and standard error in one frame\n",
    "\n",
    "result_iv = pd.concat(\n",
    "    [coef_iv.loc[\"morekids\"], se_iv.loc[\"morekids\"]],\n",
    "    axis=1,\n",
    "    keys=[\"coef\", \"se\"],\n",
    ")\n",
    "\n",
    "result_iv = result_iv.rename(mapper=dependent_variables_info, axis=0)\n",
    "\n",
    "result_iv = _format_frame(result_iv, name=\"iv\")"
   ]
  },
  {
   "cell_type": "markdown",
   "id": "57e73c87-3084-4b5b-9b02-57a88a156043",
   "metadata": {},
   "source": [
    "### Result"
   ]
  },
  {
   "cell_type": "code",
   "execution_count": 44,
   "id": "a49d4b35-0dce-4cd9-9be1-87f3c0f105fc",
   "metadata": {
    "tags": []
   },
   "outputs": [],
   "source": [
    "_result = pd.concat([result_ols, result_iv], axis=1)"
   ]
  },
  {
   "cell_type": "code",
   "execution_count": 45,
   "id": "0bcde880-c7c5-46b2-81b3-c356ac98c8ba",
   "metadata": {
    "tags": []
   },
   "outputs": [
    {
     "data": {
      "text/html": [
       "<div>\n",
       "<style scoped>\n",
       "    .dataframe tbody tr th:only-of-type {\n",
       "        vertical-align: middle;\n",
       "    }\n",
       "\n",
       "    .dataframe tbody tr th {\n",
       "        vertical-align: top;\n",
       "    }\n",
       "\n",
       "    .dataframe thead th {\n",
       "        text-align: right;\n",
       "    }\n",
       "</style>\n",
       "<table border=\"1\" class=\"dataframe\">\n",
       "  <thead>\n",
       "    <tr style=\"text-align: right;\">\n",
       "      <th></th>\n",
       "      <th>ols</th>\n",
       "      <th>iv</th>\n",
       "    </tr>\n",
       "  </thead>\n",
       "  <tbody>\n",
       "    <tr>\n",
       "      <th>Worked for pay</th>\n",
       "      <td>-0.1764 (0.0016)</td>\n",
       "      <td>-0.1173 (0.0251)</td>\n",
       "    </tr>\n",
       "    <tr>\n",
       "      <th>Weeks worked</th>\n",
       "      <td>-8.9782 (0.0706)</td>\n",
       "      <td>-5.5588 (1.1147)</td>\n",
       "    </tr>\n",
       "    <tr>\n",
       "      <th>Hours worked</th>\n",
       "      <td>-6.6467 (0.0610)</td>\n",
       "      <td>-4.5468 (0.9523)</td>\n",
       "    </tr>\n",
       "    <tr>\n",
       "      <th>Labor income</th>\n",
       "      <td>-3762.3826 (34.4127)</td>\n",
       "      <td>-1902.9526 (544.5210)</td>\n",
       "    </tr>\n",
       "    <tr>\n",
       "      <th>Log family income</th>\n",
       "      <td>-0.1379 (0.0045)</td>\n",
       "      <td>-0.0253 (0.0683)</td>\n",
       "    </tr>\n",
       "  </tbody>\n",
       "</table>\n",
       "</div>"
      ],
      "text/plain": [
       "                                    ols                     iv\n",
       "Worked for pay         -0.1764 (0.0016)       -0.1173 (0.0251)\n",
       "Weeks worked           -8.9782 (0.0706)       -5.5588 (1.1147)\n",
       "Hours worked           -6.6467 (0.0610)       -4.5468 (0.9523)\n",
       "Labor income       -3762.3826 (34.4127)  -1902.9526 (544.5210)\n",
       "Log family income      -0.1379 (0.0045)       -0.0253 (0.0683)"
      ]
     },
     "execution_count": 45,
     "metadata": {},
     "output_type": "execute_result"
    }
   ],
   "source": [
    "_result  # noqa: B018"
   ]
  },
  {
   "cell_type": "markdown",
   "id": "7844b5b8-201b-41e5-9e6e-63c1b68ef58a",
   "metadata": {},
   "source": [
    "## Problem 4"
   ]
  },
  {
   "cell_type": "code",
   "execution_count": 46,
   "id": "23cb160a-092a-41e0-9503-5b36ff501ed1",
   "metadata": {
    "tags": []
   },
   "outputs": [],
   "source": [
    "from functools import partial\n",
    "from itertools import product\n",
    "\n",
    "import numpy as np\n",
    "import pandas as pd\n",
    "from joblib import Parallel, delayed"
   ]
  },
  {
   "cell_type": "markdown",
   "id": "450fe44a",
   "metadata": {},
   "source": [
    "### Functions"
   ]
  },
  {
   "cell_type": "code",
   "execution_count": 47,
   "id": "a5253142-9676-4567-8da7-daf80d82ede7",
   "metadata": {},
   "outputs": [],
   "source": [
    "def _simulate_from_model(\n",
    "    gamma: float,\n",
    "    beta: float,\n",
    "    n_samples: int,\n",
    "    n_sim: int,\n",
    "    rng: np.random.Generator,\n",
    ") -> tuple[np.ndarray, np.ndarray, np.ndarray]:\n",
    "    \"\"\"Simulate data from the model.\n",
    "\n",
    "    Args:\n",
    "        gamma (float): Slope parameter of x onto z.\n",
    "        beta (float): Slope parameter of y onto x.\n",
    "        n_samples (int): Number of samples per simulation.\n",
    "        n_sim (int): Number of simulations.\n",
    "        rng (np.random.Generator): Random number generator.\n",
    "\n",
    "    Returns:\n",
    "        - np.ndarray: Outcomes of shape (n_sim, n_samples).\n",
    "        - np.ndarray: Regressors of shape (n_sim, n_samples).\n",
    "        - np.ndarray: Instruments of shape (n_sim, n_samples).\n",
    "\n",
    "    \"\"\"\n",
    "    mean = np.array([1, 0, 0])\n",
    "    cov = np.array(\n",
    "        [\n",
    "            [1, 0, 0],\n",
    "            [0, 1, 0.8],\n",
    "            [0, 0.8, 1],\n",
    "        ],\n",
    "    )\n",
    "\n",
    "    mvnormal = rng.multivariate_normal(mean=mean, cov=cov, size=(n_samples, n_sim))\n",
    "\n",
    "    z, e, v = mvnormal.swapaxes(0, 2)\n",
    "\n",
    "    x = z * gamma + v\n",
    "    y = x * beta + e\n",
    "\n",
    "    return y, x, z"
   ]
  },
  {
   "cell_type": "code",
   "execution_count": 48,
   "id": "c7bc0223-f49c-4683-acc0-f2fbde08219e",
   "metadata": {
    "tags": []
   },
   "outputs": [],
   "source": [
    "def _ols_1d(y: np.ndarray, x: np.ndarray) -> np.ndarray:\n",
    "    \"\"\"Fast estimation of coefficient in OLS model for 1d x and y.\n",
    "\n",
    "    Args:\n",
    "        y (np.ndarray): Outcomes of shape (n_sim, n_samples).\n",
    "        x (np.ndarray): Regressors of shape (n_sim, n_samples).\n",
    "\n",
    "    Returns:\n",
    "        np.ndarray: Coefficients of shape (n_sim,).\n",
    "\n",
    "    \"\"\"\n",
    "    return np.sum(x * y, axis=1) / np.sum(x**2, axis=1)"
   ]
  },
  {
   "cell_type": "code",
   "execution_count": 49,
   "id": "ca36e267-ac25-4046-b226-dbfa45a734ea",
   "metadata": {
    "tags": []
   },
   "outputs": [],
   "source": [
    "def _ols_coef_and_se(y: np.ndarray, x: np.ndarray) -> tuple[np.ndarray, np.ndarray]:\n",
    "    \"\"\"Fast estimation of coefficient and its se in OLS model for 1d x and y.\n",
    "\n",
    "    Args:\n",
    "        y (np.ndarray): Outcomes of shape (n_sim, n_samples).\n",
    "        x (np.ndarray): Regressors of shape (n_sim, n_samples).\n",
    "\n",
    "    Returns:\n",
    "        - np.ndarray: Coefficients of shape (n_sim,).\n",
    "        - np.ndarray: Standard errors of shape (n_sim,).\n",
    "\n",
    "    \"\"\"\n",
    "    sum_x_squared = np.sum(x**2, axis=1)\n",
    "    coef = np.sum(x * y, axis=1) / sum_x_squared\n",
    "    residuals = y - x * coef.reshape(-1, 1)\n",
    "    var = np.mean(residuals**2, axis=1) / sum_x_squared\n",
    "    return coef, np.sqrt(var)"
   ]
  },
  {
   "cell_type": "code",
   "execution_count": 50,
   "id": "aa647504-7101-4947-ae7c-d1e364e26475",
   "metadata": {
    "tags": []
   },
   "outputs": [],
   "source": [
    "def _iv_coef_and_se(\n",
    "    y: np.ndarray,\n",
    "    x: np.ndarray,\n",
    "    z: np.ndarray,\n",
    ") -> tuple[np.ndarray, np.ndarray]:\n",
    "    \"\"\"Fast estimation of coefficient and its se in IV model for 1d x, z, and y.\n",
    "\n",
    "    Args:\n",
    "        y (np.ndarray): Outcomes of shape (n_sim, n_samples).\n",
    "        x (np.ndarray): Regressors of shape (n_sim, n_samples).\n",
    "        z (np.ndarray): Instruments of shape (n_sim, n_samples).\n",
    "\n",
    "    Returns:\n",
    "        - np.ndarray: Coefficients of shape (n_sim,).\n",
    "        - np.ndarray: Standard errors of shape (n_sim,).\n",
    "\n",
    "    \"\"\"\n",
    "    sum_z_x = np.sum(z * x, axis=1)\n",
    "    coef = np.sum(z * y, axis=1) / sum_z_x\n",
    "    residuals = y - x * coef.reshape(-1, 1)\n",
    "    var = sum_z_x ** (-2) * np.sum(z**2, axis=1) * np.mean(residuals**2, axis=1)\n",
    "    return coef, np.sqrt(var)"
   ]
  },
  {
   "cell_type": "code",
   "execution_count": 51,
   "id": "b44bf3b1-4705-47ce-b341-953910028feb",
   "metadata": {
    "tags": []
   },
   "outputs": [],
   "source": [
    "def _simulation(\n",
    "    gamma: float,\n",
    "    n_samples: int,\n",
    "    n_sim: int,\n",
    "    rng: np.random.Generator,\n",
    ") -> pd.DataFrame:\n",
    "    \"\"\"Perform a monte carlo simulation.\n",
    "\n",
    "    Args:\n",
    "        gamma (float): Slope parameter of x onto z.\n",
    "        n_samples (int): Number of samples per simulation.\n",
    "        n_sim (int): Number of simulations.\n",
    "        rng (np.random.Generator): Random number generator.\n",
    "\n",
    "    Returns:\n",
    "        pd.DataFrame: Simulation result.\n",
    "\n",
    "    \"\"\"\n",
    "    # simulate data\n",
    "    y, x, z = _simulate_from_model(\n",
    "        gamma=gamma,\n",
    "        beta=1,\n",
    "        n_samples=n_samples,\n",
    "        n_sim=n_sim,\n",
    "        rng=rng,\n",
    "    )\n",
    "\n",
    "    # estimate coefficients\n",
    "    coef_ols = _ols_1d(y, x)\n",
    "\n",
    "    coef_iv, coef_iv_se = _iv_coef_and_se(y, x, z)\n",
    "\n",
    "    gamma_estimate, gamma_se = _ols_coef_and_se(x, z)\n",
    "\n",
    "    # compute coverage of iv estimate\n",
    "    lower = coef_iv - 1.96 * coef_iv_se\n",
    "    upper = coef_iv + 1.96 * coef_iv_se\n",
    "\n",
    "    coverage = np.logical_and(lower < 1, upper > 1)\n",
    "\n",
    "    # compute f-test\n",
    "    f_test_iv = (gamma_estimate / gamma_se) ** 2\n",
    "    f_test_iv_larger_10 = f_test_iv > 10\n",
    "\n",
    "    # compute conditional coverage\n",
    "    _conditional_coverage = coverage[f_test_iv_larger_10].mean()\n",
    "\n",
    "    # collect results\n",
    "    result = {\n",
    "        \"Coefficient - OLS\": coef_ols,\n",
    "        \"Coefficient - IV\": coef_iv,\n",
    "        \"Standard Error - IV\": coef_iv_se,\n",
    "        \"Coverage - IV\": coverage,\n",
    "        \"Gamma estimate\": gamma_estimate,\n",
    "        \"Gamma se\": gamma_se,\n",
    "        \"Prob. F > 10\": f_test_iv_larger_10,\n",
    "    }\n",
    "\n",
    "    # take mean across simulations\n",
    "    result = pd.DataFrame(result).mean(axis=0)\n",
    "    result[\"Cond. coverage\"] = _conditional_coverage  # is already 'meaned'\n",
    "\n",
    "    return result"
   ]
  },
  {
   "cell_type": "markdown",
   "id": "8713d185",
   "metadata": {},
   "source": [
    "### Computation"
   ]
  },
  {
   "cell_type": "code",
   "execution_count": 52,
   "id": "51cbef1f-8ade-41d0-8018-9d62e7f81467",
   "metadata": {
    "tags": []
   },
   "outputs": [],
   "source": [
    "rng = np.random.default_rng(54321)\n",
    "\n",
    "gamma_grid = np.linspace(0, 5 / 25, num=6)\n",
    "\n",
    "simulation = partial(_simulation, n_sim=10_000, rng=rng)"
   ]
  },
  {
   "cell_type": "code",
   "execution_count": 53,
   "id": "129b79f2",
   "metadata": {},
   "outputs": [],
   "source": [
    "parameter_grid = list(product(gamma_grid, [625, 2_500]))\n",
    "\n",
    "raw_result = Parallel(n_jobs=8)(\n",
    "    delayed(simulation)(gamma=gamma, n_samples=n_samples)\n",
    "    for gamma, n_samples in parameter_grid\n",
    ")"
   ]
  },
  {
   "cell_type": "code",
   "execution_count": 54,
   "id": "7c69f9de",
   "metadata": {},
   "outputs": [],
   "source": [
    "result = pd.DataFrame(\n",
    "    raw_result,\n",
    "    index=pd.MultiIndex.from_tuples(parameter_grid, names=[\"gamma\", \"No. samples\"]),\n",
    ").T"
   ]
  },
  {
   "cell_type": "code",
   "execution_count": 55,
   "id": "e6ae90da",
   "metadata": {},
   "outputs": [
    {
     "data": {
      "text/html": [
       "<div>\n",
       "<style scoped>\n",
       "    .dataframe tbody tr th:only-of-type {\n",
       "        vertical-align: middle;\n",
       "    }\n",
       "\n",
       "    .dataframe tbody tr th {\n",
       "        vertical-align: top;\n",
       "    }\n",
       "\n",
       "    .dataframe thead tr th {\n",
       "        text-align: left;\n",
       "    }\n",
       "</style>\n",
       "<table border=\"1\" class=\"dataframe\">\n",
       "  <thead>\n",
       "    <tr>\n",
       "      <th>gamma</th>\n",
       "      <th colspan=\"2\" halign=\"left\">0.00</th>\n",
       "      <th colspan=\"2\" halign=\"left\">0.04</th>\n",
       "      <th colspan=\"2\" halign=\"left\">0.08</th>\n",
       "      <th colspan=\"2\" halign=\"left\">0.12</th>\n",
       "      <th colspan=\"2\" halign=\"left\">0.16</th>\n",
       "      <th colspan=\"2\" halign=\"left\">0.20</th>\n",
       "    </tr>\n",
       "    <tr>\n",
       "      <th>No. samples</th>\n",
       "      <th>625</th>\n",
       "      <th>2500</th>\n",
       "      <th>625</th>\n",
       "      <th>2500</th>\n",
       "      <th>625</th>\n",
       "      <th>2500</th>\n",
       "      <th>625</th>\n",
       "      <th>2500</th>\n",
       "      <th>625</th>\n",
       "      <th>2500</th>\n",
       "      <th>625</th>\n",
       "      <th>2500</th>\n",
       "    </tr>\n",
       "  </thead>\n",
       "  <tbody>\n",
       "    <tr>\n",
       "      <th>Coefficient - OLS</th>\n",
       "      <td>1.800</td>\n",
       "      <td>1.800</td>\n",
       "      <td>1.798</td>\n",
       "      <td>1.797</td>\n",
       "      <td>1.790</td>\n",
       "      <td>1.790</td>\n",
       "      <td>1.778</td>\n",
       "      <td>1.777</td>\n",
       "      <td>1.761</td>\n",
       "      <td>1.761</td>\n",
       "      <td>1.741</td>\n",
       "      <td>1.741</td>\n",
       "    </tr>\n",
       "    <tr>\n",
       "      <th>Coefficient - IV</th>\n",
       "      <td>2.766</td>\n",
       "      <td>0.052</td>\n",
       "      <td>0.614</td>\n",
       "      <td>0.769</td>\n",
       "      <td>0.565</td>\n",
       "      <td>0.973</td>\n",
       "      <td>0.945</td>\n",
       "      <td>0.989</td>\n",
       "      <td>0.973</td>\n",
       "      <td>0.994</td>\n",
       "      <td>0.983</td>\n",
       "      <td>0.996</td>\n",
       "    </tr>\n",
       "    <tr>\n",
       "      <th>Standard Error - IV</th>\n",
       "      <td>35190.751</td>\n",
       "      <td>39321.618</td>\n",
       "      <td>724.550</td>\n",
       "      <td>17.968</td>\n",
       "      <td>262.636</td>\n",
       "      <td>0.192</td>\n",
       "      <td>0.285</td>\n",
       "      <td>0.122</td>\n",
       "      <td>0.193</td>\n",
       "      <td>0.090</td>\n",
       "      <td>0.149</td>\n",
       "      <td>0.072</td>\n",
       "    </tr>\n",
       "    <tr>\n",
       "      <th>Coverage - IV</th>\n",
       "      <td>0.870</td>\n",
       "      <td>0.866</td>\n",
       "      <td>0.903</td>\n",
       "      <td>0.927</td>\n",
       "      <td>0.928</td>\n",
       "      <td>0.948</td>\n",
       "      <td>0.940</td>\n",
       "      <td>0.954</td>\n",
       "      <td>0.946</td>\n",
       "      <td>0.952</td>\n",
       "      <td>0.950</td>\n",
       "      <td>0.951</td>\n",
       "    </tr>\n",
       "    <tr>\n",
       "      <th>Gamma estimate</th>\n",
       "      <td>0.000</td>\n",
       "      <td>0.000</td>\n",
       "      <td>0.040</td>\n",
       "      <td>0.040</td>\n",
       "      <td>0.080</td>\n",
       "      <td>0.080</td>\n",
       "      <td>0.120</td>\n",
       "      <td>0.120</td>\n",
       "      <td>0.160</td>\n",
       "      <td>0.160</td>\n",
       "      <td>0.200</td>\n",
       "      <td>0.200</td>\n",
       "    </tr>\n",
       "    <tr>\n",
       "      <th>Gamma se</th>\n",
       "      <td>0.028</td>\n",
       "      <td>0.014</td>\n",
       "      <td>0.028</td>\n",
       "      <td>0.014</td>\n",
       "      <td>0.028</td>\n",
       "      <td>0.014</td>\n",
       "      <td>0.028</td>\n",
       "      <td>0.014</td>\n",
       "      <td>0.028</td>\n",
       "      <td>0.014</td>\n",
       "      <td>0.028</td>\n",
       "      <td>0.014</td>\n",
       "    </tr>\n",
       "    <tr>\n",
       "      <th>Prob. F &gt; 10</th>\n",
       "      <td>0.001</td>\n",
       "      <td>0.001</td>\n",
       "      <td>0.042</td>\n",
       "      <td>0.377</td>\n",
       "      <td>0.376</td>\n",
       "      <td>0.995</td>\n",
       "      <td>0.860</td>\n",
       "      <td>1.000</td>\n",
       "      <td>0.992</td>\n",
       "      <td>1.000</td>\n",
       "      <td>1.000</td>\n",
       "      <td>1.000</td>\n",
       "    </tr>\n",
       "    <tr>\n",
       "      <th>Cond. coverage</th>\n",
       "      <td>0.000</td>\n",
       "      <td>0.000</td>\n",
       "      <td>0.383</td>\n",
       "      <td>0.817</td>\n",
       "      <td>0.820</td>\n",
       "      <td>0.947</td>\n",
       "      <td>0.930</td>\n",
       "      <td>0.954</td>\n",
       "      <td>0.946</td>\n",
       "      <td>0.952</td>\n",
       "      <td>0.950</td>\n",
       "      <td>0.951</td>\n",
       "    </tr>\n",
       "  </tbody>\n",
       "</table>\n",
       "</div>"
      ],
      "text/plain": [
       "gamma                     0.00                0.04             0.08         \\\n",
       "No. samples               625        2500     625     2500     625    2500   \n",
       "Coefficient - OLS        1.800      1.800    1.798   1.797    1.790  1.790   \n",
       "Coefficient - IV         2.766      0.052    0.614   0.769    0.565  0.973   \n",
       "Standard Error - IV  35190.751  39321.618  724.550  17.968  262.636  0.192   \n",
       "Coverage - IV            0.870      0.866    0.903   0.927    0.928  0.948   \n",
       "Gamma estimate           0.000      0.000    0.040   0.040    0.080  0.080   \n",
       "Gamma se                 0.028      0.014    0.028   0.014    0.028  0.014   \n",
       "Prob. F > 10             0.001      0.001    0.042   0.377    0.376  0.995   \n",
       "Cond. coverage           0.000      0.000    0.383   0.817    0.820  0.947   \n",
       "\n",
       "gamma                 0.12          0.16          0.20         \n",
       "No. samples           625    2500   625    2500   625    2500  \n",
       "Coefficient - OLS    1.778  1.777  1.761  1.761  1.741  1.741  \n",
       "Coefficient - IV     0.945  0.989  0.973  0.994  0.983  0.996  \n",
       "Standard Error - IV  0.285  0.122  0.193  0.090  0.149  0.072  \n",
       "Coverage - IV        0.940  0.954  0.946  0.952  0.950  0.951  \n",
       "Gamma estimate       0.120  0.120  0.160  0.160  0.200  0.200  \n",
       "Gamma se             0.028  0.014  0.028  0.014  0.028  0.014  \n",
       "Prob. F > 10         0.860  1.000  0.992  1.000  1.000  1.000  \n",
       "Cond. coverage       0.930  0.954  0.946  0.952  0.950  0.951  "
      ]
     },
     "execution_count": 55,
     "metadata": {},
     "output_type": "execute_result"
    }
   ],
   "source": [
    "result.round(3)"
   ]
  }
 ],
 "metadata": {
  "kernelspec": {
   "display_name": "Python 3 (ipykernel)",
   "language": "python",
   "name": "python3"
  },
  "language_info": {
   "codemirror_mode": {
    "name": "ipython",
    "version": 3
   },
   "file_extension": ".py",
   "mimetype": "text/x-python",
   "name": "python",
   "nbconvert_exporter": "python",
   "pygments_lexer": "ipython3",
   "version": "3.11.3"
  }
 },
 "nbformat": 4,
 "nbformat_minor": 5
}
