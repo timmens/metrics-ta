{
 "cells": [
  {
   "attachments": {},
   "cell_type": "markdown",
   "id": "d6961693-7bf8-4fc0-9f7e-50a8d458cf84",
   "metadata": {},
   "source": [
    "# Problem Set 3\n",
    "\n",
    "Solutions to Computational Problems\n",
    "\n",
    "## Problem 1"
   ]
  },
  {
   "cell_type": "code",
   "execution_count": 1,
   "id": "5d516be6-0371-4ffb-ad11-7d98103369e6",
   "metadata": {
    "tags": []
   },
   "outputs": [],
   "source": [
    "from functools import partial\n",
    "\n",
    "import estimagic as em\n",
    "import jax\n",
    "import jax.numpy as jnp\n",
    "import numpy as np\n",
    "import pandas as pd\n",
    "import statsmodels.api as sm\n",
    "from jax.scipy import stats\n",
    "from joblib import Parallel, delayed\n",
    "from scipy.stats import norm\n",
    "from sklearn.linear_model import LinearRegression\n",
    "\n",
    "jax.config.update(\"jax_enable_x64\", val=True)"
   ]
  },
  {
   "attachments": {},
   "cell_type": "markdown",
   "id": "b8f4fbbe-24af-4fac-b440-1c5c3a7844e2",
   "metadata": {},
   "source": [
    "### Functions"
   ]
  },
  {
   "cell_type": "code",
   "execution_count": 2,
   "id": "cb89d6c0-4aa7-42ae-b5e6-39701a84d5e0",
   "metadata": {
    "tags": []
   },
   "outputs": [],
   "source": [
    "def simulate_tobit(n_samples: int, rng: np.random.Generator):\n",
    "    \"\"\"Simulate data from a Tobit model.\n",
    "\n",
    "    Args:\n",
    "        n_samples (int): Number of samples.\n",
    "        rng (np.random.Generator): Random number generator.\n",
    "\n",
    "    Returns:\n",
    "        - np.ndarray: Features, has shape (n_samples, 1)\n",
    "        - np.ndarray: Outcomes, has shape (n_samples, )\n",
    "\n",
    "    \"\"\"\n",
    "    x = rng.standard_t(df=6, size=n_samples)\n",
    "    u = rng.standard_normal(size=n_samples)\n",
    "    y_unobserved = 3 + 2 * x + u\n",
    "    y = np.clip(y_unobserved, a_min=2, a_max=None)\n",
    "    return x.reshape(-1, 1), y"
   ]
  },
  {
   "cell_type": "code",
   "execution_count": 3,
   "id": "16f7d62e-d197-44b6-8992-9942b6187ff6",
   "metadata": {
    "tags": []
   },
   "outputs": [],
   "source": [
    "def ols_approach(x, y):\n",
    "    \"\"\"Run simple ordinary least squares regression.\n",
    "\n",
    "    Args:\n",
    "        x (np.ndarray): Features, has shape (n_samples, 1)\n",
    "        y (np.ndarray): Outcomes, has shape (n_samples, )\n",
    "\n",
    "    Returns:\n",
    "        np.ndarray: Coefficients. First entry is the intercept.\n",
    "\n",
    "    \"\"\"\n",
    "    model = LinearRegression(fit_intercept=True)\n",
    "    model = model.fit(x, y)\n",
    "    return np.array([model.intercept_, *model.coef_])"
   ]
  },
  {
   "cell_type": "code",
   "execution_count": 4,
   "id": "f3783462-9348-4816-9d61-71dbdc0cf85c",
   "metadata": {
    "tags": []
   },
   "outputs": [],
   "source": [
    "def probit_approach(x, y):\n",
    "    \"\"\"Run two step procedure.\n",
    "\n",
    "    Args:\n",
    "        x (np.ndarray): Features, has shape (n_samples, 1)\n",
    "        y (np.ndarray): Outcomes, has shape (n_samples, )\n",
    "\n",
    "    Returns:\n",
    "        np.ndarray: Coefficients. First entry is the intercept.\n",
    "\n",
    "    \"\"\"\n",
    "    mask = y > 2\n",
    "\n",
    "    # First stage\n",
    "    # ----------------------------------------------------------------------------------\n",
    "    y_binary = mask.astype(int)\n",
    "    probit_model = sm.Probit(y_binary, sm.add_constant(x)).fit(disp=False)\n",
    "\n",
    "    # Second stage\n",
    "    # ----------------------------------------------------------------------------------\n",
    "    x_subset = sm.add_constant(x[mask])\n",
    "    y_subset = y[mask]\n",
    "\n",
    "    index = x_subset @ probit_model.params\n",
    "    mills_ratio = norm.pdf(index) / norm.cdf(index)\n",
    "\n",
    "    features = np.column_stack([x_subset, mills_ratio])\n",
    "\n",
    "    linear_model = LinearRegression(fit_intercept=False)\n",
    "    return linear_model.fit(features, y_subset).coef_[:2]"
   ]
  },
  {
   "cell_type": "code",
   "execution_count": 5,
   "id": "9a037599-3951-4543-a3e7-72c03b0d19de",
   "metadata": {
    "tags": []
   },
   "outputs": [],
   "source": [
    "def large_x_approach(x, y, percentile):\n",
    "    \"\"\"Run OLS only on data points where x-value is among largest percentile.\n",
    "\n",
    "    Args:\n",
    "        x (np.ndarray): Features, has shape (n_samples, 1)\n",
    "        y (np.ndarray): Outcomes, has shape (n_samples, )\n",
    "        percentile (int): Percentage for the percentiles to compute. Values\n",
    "            must be between 0 and 100 inclusive.\n",
    "\n",
    "    Returns:\n",
    "        np.ndarray: Coefficients. First entry is the intercept.\n",
    "\n",
    "    \"\"\"\n",
    "    threshold = np.percentile(x, percentile)\n",
    "    mask = x.flatten() > threshold\n",
    "    return ols_approach(x=x[mask], y=y[mask])"
   ]
  },
  {
   "cell_type": "code",
   "execution_count": 6,
   "id": "59ba0705-1aba-4bc4-8fa7-43d9edf28f4e",
   "metadata": {
    "tags": []
   },
   "outputs": [],
   "source": [
    "def _simulation(\n",
    "    n_samples: int,\n",
    "    rng: np.random.Generator,\n",
    "):\n",
    "    \"\"\"Run single simulation.\n",
    "\n",
    "    Args:\n",
    "        n_samples (int): Number of samples.\n",
    "        rng (np.random.Generator): Random number generator.\n",
    "\n",
    "    Returns:\n",
    "        pd.DataFrame: Results of the simulation. Has rows \"ols\", \"probit\", and \"large_x\"\n",
    "            and columns \"intercept\" and \"slope\".\n",
    "\n",
    "    \"\"\"\n",
    "    x, y = simulate_tobit(n_samples, rng=rng)\n",
    "\n",
    "    result = {\n",
    "        \"ols\": ols_approach(x, y),\n",
    "        \"probit\": probit_approach(x, y),\n",
    "        \"large_x\": large_x_approach(x, y, percentile=80),\n",
    "    }\n",
    "\n",
    "    return pd.DataFrame(result, index=[\"intercept\", \"slope\"]).T"
   ]
  },
  {
   "attachments": {},
   "cell_type": "markdown",
   "id": "34f1c5df-0f4e-412d-9b81-df14c3fa4cb6",
   "metadata": {},
   "source": [
    "### Computation"
   ]
  },
  {
   "cell_type": "code",
   "execution_count": 7,
   "id": "7d3fe1d5-231b-4578-ab1f-39ab6ed06090",
   "metadata": {
    "tags": []
   },
   "outputs": [],
   "source": [
    "rng = np.random.default_rng(54321)\n",
    "\n",
    "simulation = partial(_simulation, n_samples=500, rng=rng)"
   ]
  },
  {
   "cell_type": "code",
   "execution_count": 8,
   "id": "0dedaafe-48d0-4444-8840-13465f43810f",
   "metadata": {
    "tags": []
   },
   "outputs": [],
   "source": [
    "n_sims = 10_000\n",
    "\n",
    "raw_result = Parallel(n_jobs=5)(delayed(simulation)() for _ in range(n_sims))"
   ]
  },
  {
   "cell_type": "code",
   "execution_count": 9,
   "id": "99be9e8f-407d-4bc1-bc4b-707fd77c2cf2",
   "metadata": {
    "tags": []
   },
   "outputs": [],
   "source": [
    "result = pd.concat(\n",
    "    raw_result,\n",
    "    axis=0,\n",
    "    keys=range(n_sims),\n",
    "    names=[\"simulation\", \"approach\"],\n",
    ")\n",
    "result = result.groupby(\"approach\").mean()"
   ]
  },
  {
   "cell_type": "code",
   "execution_count": 10,
   "id": "a8d6c068-089a-407d-a771-52c789e06e1f",
   "metadata": {
    "tags": []
   },
   "outputs": [
    {
     "data": {
      "text/html": [
       "<div>\n",
       "<style scoped>\n",
       "    .dataframe tbody tr th:only-of-type {\n",
       "        vertical-align: middle;\n",
       "    }\n",
       "\n",
       "    .dataframe tbody tr th {\n",
       "        vertical-align: top;\n",
       "    }\n",
       "\n",
       "    .dataframe thead th {\n",
       "        text-align: right;\n",
       "    }\n",
       "</style>\n",
       "<table border=\"1\" class=\"dataframe\">\n",
       "  <thead>\n",
       "    <tr style=\"text-align: right;\">\n",
       "      <th></th>\n",
       "      <th>intercept</th>\n",
       "      <th>slope</th>\n",
       "    </tr>\n",
       "    <tr>\n",
       "      <th>approach</th>\n",
       "      <th></th>\n",
       "      <th></th>\n",
       "    </tr>\n",
       "  </thead>\n",
       "  <tbody>\n",
       "    <tr>\n",
       "      <th>large_x</th>\n",
       "      <td>3.165834</td>\n",
       "      <td>1.928257</td>\n",
       "    </tr>\n",
       "    <tr>\n",
       "      <th>ols</th>\n",
       "      <td>3.565667</td>\n",
       "      <td>1.310595</td>\n",
       "    </tr>\n",
       "    <tr>\n",
       "      <th>probit</th>\n",
       "      <td>3.024676</td>\n",
       "      <td>1.989339</td>\n",
       "    </tr>\n",
       "  </tbody>\n",
       "</table>\n",
       "</div>"
      ],
      "text/plain": [
       "          intercept     slope\n",
       "approach                     \n",
       "large_x    3.165834  1.928257\n",
       "ols        3.565667  1.310595\n",
       "probit     3.024676  1.989339"
      ]
     },
     "execution_count": 10,
     "metadata": {},
     "output_type": "execute_result"
    }
   ],
   "source": [
    "result  # noqa: B018"
   ]
  },
  {
   "attachments": {},
   "cell_type": "markdown",
   "id": "29d4e101-9c16-4ff6-948d-cfe8dcb7c0db",
   "metadata": {},
   "source": [
    "## Problem 5"
   ]
  },
  {
   "attachments": {},
   "cell_type": "markdown",
   "id": "205c8178-25c5-4166-8785-0f7d135b5d09",
   "metadata": {},
   "source": [
    "### Functions"
   ]
  },
  {
   "cell_type": "code",
   "execution_count": 11,
   "id": "501cc6b9-8242-4e00-98ed-db7cc5af566c",
   "metadata": {
    "tags": []
   },
   "outputs": [],
   "source": [
    "def simulate_probit(n_samples: int, key: jnp.ndarray):\n",
    "    \"\"\"Simulate data from a Probit model.\n",
    "\n",
    "    Args:\n",
    "        n_samples (int): Number of samples.\n",
    "        key (jnp.ndarray): A PRNG key.\n",
    "\n",
    "    Returns:\n",
    "        - np.ndarray: Features, has shape (n_samples, 1)\n",
    "        - np.ndarray: Outcomes, has shape (n_samples, )\n",
    "\n",
    "    \"\"\"\n",
    "    x_key, y_key = jax.random.split(key, num=2)\n",
    "\n",
    "    x = jax.random.normal(x_key, shape=(n_samples,))\n",
    "    probs = stats.norm.cdf(2 + 3 * x)\n",
    "    y = jax.random.bernoulli(y_key, probs).astype(int)\n",
    "\n",
    "    return x, y"
   ]
  },
  {
   "cell_type": "code",
   "execution_count": 12,
   "id": "0322038d-59a4-4847-bebb-86f9f5f4f1a0",
   "metadata": {
    "tags": []
   },
   "outputs": [],
   "source": [
    "def probit_lstsq_loss(params: dict, x: jnp.ndarray, y: jnp.ndarray):\n",
    "    \"\"\"Return probit least-squares loss.\n",
    "\n",
    "    Args:\n",
    "        params (dict): Params dictionary including 'intercept' and 'slope'.\n",
    "        x (jnp.ndarray): Input features.\n",
    "        y: (jnp.ndarray): Binary outcome.\n",
    "\n",
    "    Returns:\n",
    "        jnp.ndarray: Squared error loss.\n",
    "\n",
    "    \"\"\"\n",
    "    index = params[\"intercept\"] + x * params[\"slope\"]\n",
    "    residuals = y - stats.norm.cdf(index)\n",
    "    return jnp.sum(residuals**2)"
   ]
  },
  {
   "cell_type": "code",
   "execution_count": 14,
   "id": "e4baf906-ecd9-4978-91fa-c2b27b11ab21",
   "metadata": {
    "tags": []
   },
   "outputs": [],
   "source": [
    "def get_loss_and_grad(x: jnp.ndarray, y: jnp.ndarray):\n",
    "    \"\"\"Return loss and gradient function.\n",
    "\n",
    "    Args:\n",
    "        x (jnp.ndarray): Input features.\n",
    "        y: (jnp.ndarray): Binary outcome.\n",
    "\n",
    "    Returns:\n",
    "        - Callable: Loss function.\n",
    "        - Callable: Gradient function.\n",
    "\n",
    "    \"\"\"\n",
    "    loss = jax.jit(partial(probit_lstsq_loss, x=x, y=y))\n",
    "    grad = jax.jit(jax.grad(loss))\n",
    "    return loss, grad"
   ]
  },
  {
   "cell_type": "code",
   "execution_count": 15,
   "id": "130a33cf-12a2-4670-8e58-8518774a9df4",
   "metadata": {
    "tags": []
   },
   "outputs": [],
   "source": [
    "def simulation(\n",
    "    n_samples: int,\n",
    "    n_sims: int,\n",
    "    start_params: dict,\n",
    "    seed: int,\n",
    "):\n",
    "    \"\"\"Run a Monte Carlo simulation.\n",
    "\n",
    "    Args:\n",
    "        n_samples (int): Number of samples.\n",
    "        n_sims (int): Number of simulations.\n",
    "        start_params (dict): Params dictionary including 'intercept' and 'slope'.\n",
    "        seed (int): Random seed.\n",
    "\n",
    "    Returns:\n",
    "        pd.DataFrame: Results of the simulation. Has columns 'intercept' and 'slope'.\n",
    "            Rows correspond to simulations.\n",
    "\n",
    "    \"\"\"\n",
    "    key = jax.random.PRNGKey(seed)\n",
    "\n",
    "    result = []\n",
    "\n",
    "    for _ in range(n_sims):\n",
    "        key, subkey = jax.random.split(key)\n",
    "\n",
    "        x, y = simulate_probit(n_samples, key=subkey)\n",
    "\n",
    "        loss, grad = get_loss_and_grad(x=x, y=y)\n",
    "\n",
    "        res = em.minimize(\n",
    "            criterion=loss,\n",
    "            derivative=grad,\n",
    "            params=start_params,\n",
    "            algorithm=\"scipy_lbfgsb\",\n",
    "        )\n",
    "\n",
    "        result.append(res.params)\n",
    "\n",
    "    return pd.DataFrame(result)"
   ]
  },
  {
   "attachments": {},
   "cell_type": "markdown",
   "id": "8a9e30c9-ffe1-46bd-a372-f822cfa96e52",
   "metadata": {},
   "source": [
    "### Computation"
   ]
  },
  {
   "cell_type": "code",
   "execution_count": 16,
   "id": "3e9d8ef3-7d84-4bc3-a482-d93ee9c7f06f",
   "metadata": {
    "tags": []
   },
   "outputs": [
    {
     "name": "stderr",
     "output_type": "stream",
     "text": [
      "No GPU/TPU found, falling back to CPU. (Set TF_CPP_MIN_LOG_LEVEL=0 and rerun for more info.)\n"
     ]
    },
    {
     "data": {
      "text/html": [
       "<div>\n",
       "<style scoped>\n",
       "    .dataframe tbody tr th:only-of-type {\n",
       "        vertical-align: middle;\n",
       "    }\n",
       "\n",
       "    .dataframe tbody tr th {\n",
       "        vertical-align: top;\n",
       "    }\n",
       "\n",
       "    .dataframe thead th {\n",
       "        text-align: right;\n",
       "    }\n",
       "</style>\n",
       "<table border=\"1\" class=\"dataframe\">\n",
       "  <thead>\n",
       "    <tr style=\"text-align: right;\">\n",
       "      <th></th>\n",
       "      <th>intercept</th>\n",
       "      <th>slope</th>\n",
       "    </tr>\n",
       "    <tr>\n",
       "      <th>n_samples</th>\n",
       "      <th></th>\n",
       "      <th></th>\n",
       "    </tr>\n",
       "  </thead>\n",
       "  <tbody>\n",
       "    <tr>\n",
       "      <th>100</th>\n",
       "      <td>16.856449</td>\n",
       "      <td>26.612203</td>\n",
       "    </tr>\n",
       "    <tr>\n",
       "      <th>1000</th>\n",
       "      <td>2.003203</td>\n",
       "      <td>3.016902</td>\n",
       "    </tr>\n",
       "  </tbody>\n",
       "</table>\n",
       "</div>"
      ],
      "text/plain": [
       "           intercept      slope\n",
       "n_samples                      \n",
       "100        16.856449  26.612203\n",
       "1000        2.003203   3.016902"
      ]
     },
     "execution_count": 16,
     "metadata": {},
     "output_type": "execute_result"
    }
   ],
   "source": [
    "results = []\n",
    "\n",
    "for n_samples in [100, 1_000]:\n",
    "    raw = simulation(\n",
    "        n_samples=n_samples,\n",
    "        n_sims=100,\n",
    "        start_params={\"intercept\": 0.0, \"slope\": 0.0},\n",
    "        seed=54321,\n",
    "    )\n",
    "    results.append(raw.mean())\n",
    "\n",
    "result = pd.DataFrame(results, index=pd.Index([100, 1_000], name=\"n_samples\"))\n",
    "result  # noqa: B018"
   ]
  }
 ],
 "metadata": {
  "kernelspec": {
   "display_name": "Python 3 (ipykernel)",
   "language": "python",
   "name": "python3"
  },
  "language_info": {
   "codemirror_mode": {
    "name": "ipython",
    "version": 3
   },
   "file_extension": ".py",
   "mimetype": "text/x-python",
   "name": "python",
   "nbconvert_exporter": "python",
   "pygments_lexer": "ipython3",
   "version": "3.11.4"
  }
 },
 "nbformat": 4,
 "nbformat_minor": 5
}
