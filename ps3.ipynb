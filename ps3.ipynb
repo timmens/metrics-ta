{
 "cells": [
  {
   "attachments": {},
   "cell_type": "markdown",
   "id": "d6961693-7bf8-4fc0-9f7e-50a8d458cf84",
   "metadata": {},
   "source": [
    "# Problem Set 3\n",
    "\n",
    "Solutions to Computational Problems\n",
    "\n",
    "## Problem 1"
   ]
  },
  {
   "cell_type": "code",
   "execution_count": 1,
   "id": "5d516be6-0371-4ffb-ad11-7d98103369e6",
   "metadata": {
    "tags": []
   },
   "outputs": [],
   "source": [
    "from functools import partial\n",
    "\n",
    "import numpy as np\n",
    "import pandas as pd\n",
    "import statsmodels.api as sm\n",
    "from joblib import Parallel, delayed\n",
    "from scipy.stats import norm\n",
    "from sklearn.linear_model import LinearRegression"
   ]
  },
  {
   "attachments": {},
   "cell_type": "markdown",
   "id": "b8f4fbbe-24af-4fac-b440-1c5c3a7844e2",
   "metadata": {},
   "source": [
    "## Functions"
   ]
  },
  {
   "cell_type": "code",
   "execution_count": 2,
   "id": "cb89d6c0-4aa7-42ae-b5e6-39701a84d5e0",
   "metadata": {
    "tags": []
   },
   "outputs": [],
   "source": [
    "def simulate_data(n_samples: int, rng: np.random.Generator):\n",
    "    \"\"\"Simulate data from a Tobit model.\n",
    "\n",
    "    Args:\n",
    "        n_samples (int): Number of samples.\n",
    "        rng (np.random.Generator): Random number generator.\n",
    "\n",
    "    Returns:\n",
    "        - np.ndarray: Features, has shape (n_samples, 1)\n",
    "        - np.ndarray: Outcomes, has shape (n_samples, )\n",
    "\n",
    "    \"\"\"\n",
    "    x = rng.standard_t(df=6, size=n_samples)\n",
    "    u = rng.standard_normal(size=n_samples)\n",
    "    y_unobserved = 3 + 2 * x + u\n",
    "    y = np.clip(y_unobserved, a_min=2, a_max=None)\n",
    "    return x.reshape(-1, 1), y"
   ]
  },
  {
   "cell_type": "code",
   "execution_count": 3,
   "id": "16f7d62e-d197-44b6-8992-9942b6187ff6",
   "metadata": {
    "tags": []
   },
   "outputs": [],
   "source": [
    "def ols_approach(x, y):\n",
    "    \"\"\"Run simple ordinary least squares regression.\n",
    "\n",
    "    Args:\n",
    "        x (np.ndarray): Features, has shape (n_samples, 1)\n",
    "        y (np.ndarray): Outcomes, has shape (n_samples, )\n",
    "\n",
    "    Returns:\n",
    "        np.ndarray: Coefficients. First entry is the intercept.\n",
    "\n",
    "    \"\"\"\n",
    "    model = LinearRegression(fit_intercept=True)\n",
    "    model = model.fit(x, y)\n",
    "    return np.array([model.intercept_, *model.coef_])"
   ]
  },
  {
   "cell_type": "code",
   "execution_count": 4,
   "id": "f3783462-9348-4816-9d61-71dbdc0cf85c",
   "metadata": {
    "tags": []
   },
   "outputs": [],
   "source": [
    "def probit_approach(x, y):\n",
    "    \"\"\"Run two step procedure.\n",
    "\n",
    "    Args:\n",
    "        x (np.ndarray): Features, has shape (n_samples, 1)\n",
    "        y (np.ndarray): Outcomes, has shape (n_samples, )\n",
    "\n",
    "    Returns:\n",
    "        np.ndarray: Coefficients. First entry is the intercept.\n",
    "\n",
    "    \"\"\"\n",
    "    mask = y > 2\n",
    "\n",
    "    # First stage\n",
    "    # ----------------------------------------------------------------------------------\n",
    "    y_binary = mask.astype(int)\n",
    "    probit_model = sm.Probit(y_binary, sm.add_constant(x)).fit(disp=False)\n",
    "\n",
    "    # Second stage\n",
    "    # ----------------------------------------------------------------------------------\n",
    "    x_subset = sm.add_constant(x[mask])\n",
    "    y_subset = y[mask]\n",
    "\n",
    "    _pred = x_subset @ probit_model.params\n",
    "    mills_ratio = norm.pdf(_pred) / norm.cdf(_pred)\n",
    "\n",
    "    features = np.column_stack([x_subset, mills_ratio])\n",
    "\n",
    "    linear_model = LinearRegression(fit_intercept=False)\n",
    "    return linear_model.fit(features, y_subset).coef_[:2]"
   ]
  },
  {
   "cell_type": "code",
   "execution_count": 9,
   "id": "9a037599-3951-4543-a3e7-72c03b0d19de",
   "metadata": {
    "tags": []
   },
   "outputs": [],
   "source": [
    "def large_x_approach(x, y, percentile):\n",
    "    \"\"\"Run OLS only on data points where x-value is among largest percentile.\n",
    "\n",
    "    Args:\n",
    "        x (np.ndarray): Features, has shape (n_samples, 1)\n",
    "        y (np.ndarray): Outcomes, has shape (n_samples, )\n",
    "        percentile (int): Percentage for the percentiles to compute. Values\n",
    "            must be between 0 and 100 inclusive.\n",
    "\n",
    "    Returns:\n",
    "        np.ndarray: Coefficients. First entry is the intercept.\n",
    "\n",
    "    \"\"\"\n",
    "    threshold = np.percentile(x, percentile)\n",
    "    mask = x.flatten() > threshold\n",
    "    return ols_approach(x=x[mask], y=y[mask])"
   ]
  },
  {
   "cell_type": "code",
   "execution_count": 10,
   "id": "59ba0705-1aba-4bc4-8fa7-43d9edf28f4e",
   "metadata": {
    "tags": []
   },
   "outputs": [],
   "source": [
    "def _simulation(\n",
    "    n_samples: int,\n",
    "    rng: np.random.Generator,\n",
    "):\n",
    "    \"\"\"Run single simulation.\n",
    "\n",
    "    Args:\n",
    "        n_samples (int): Number of samples.\n",
    "        rng (np.random.Generator): Random number generator.\n",
    "\n",
    "    Returns:\n",
    "        pd.DataFrame: Results of the simulation. Has rows \"ols\", \"probit\", and \"large_x\"\n",
    "            and columns \"intercept\" and \"slope\".\n",
    "\n",
    "    \"\"\"\n",
    "    x, y = simulate_data(n_samples, rng=rng)\n",
    "\n",
    "    result = {\n",
    "        \"ols\": ols_approach(x, y),\n",
    "        \"probit\": probit_approach(x, y),\n",
    "        \"large_x\": large_x_approach(x, y, percentile=80),\n",
    "    }\n",
    "\n",
    "    return pd.DataFrame(result, index=[\"intercept\", \"slope\"]).T"
   ]
  },
  {
   "attachments": {},
   "cell_type": "markdown",
   "id": "34f1c5df-0f4e-412d-9b81-df14c3fa4cb6",
   "metadata": {},
   "source": [
    "## Computation"
   ]
  },
  {
   "cell_type": "code",
   "execution_count": 11,
   "id": "7d3fe1d5-231b-4578-ab1f-39ab6ed06090",
   "metadata": {
    "tags": []
   },
   "outputs": [],
   "source": [
    "rng = np.random.default_rng(54321)\n",
    "\n",
    "simulation = partial(_simulation, n_samples=500, rng=rng)"
   ]
  },
  {
   "cell_type": "code",
   "execution_count": 25,
   "id": "0dedaafe-48d0-4444-8840-13465f43810f",
   "metadata": {
    "tags": []
   },
   "outputs": [],
   "source": [
    "n_sims = 10_000\n",
    "\n",
    "raw_result = Parallel(n_jobs=5)(delayed(simulation)() for _ in range(n_sims))"
   ]
  },
  {
   "cell_type": "code",
   "execution_count": 26,
   "id": "99be9e8f-407d-4bc1-bc4b-707fd77c2cf2",
   "metadata": {},
   "outputs": [],
   "source": [
    "result = pd.concat(\n",
    "    raw_result,\n",
    "    axis=0,\n",
    "    keys=range(n_sims),\n",
    "    names=[\"simulation\", \"approach\"],\n",
    ")\n",
    "result = result.groupby(\"approach\").mean()"
   ]
  },
  {
   "cell_type": "code",
   "execution_count": 27,
   "id": "a8d6c068-089a-407d-a771-52c789e06e1f",
   "metadata": {
    "tags": []
   },
   "outputs": [
    {
     "data": {
      "text/html": [
       "<div>\n",
       "<style scoped>\n",
       "    .dataframe tbody tr th:only-of-type {\n",
       "        vertical-align: middle;\n",
       "    }\n",
       "\n",
       "    .dataframe tbody tr th {\n",
       "        vertical-align: top;\n",
       "    }\n",
       "\n",
       "    .dataframe thead th {\n",
       "        text-align: right;\n",
       "    }\n",
       "</style>\n",
       "<table border=\"1\" class=\"dataframe\">\n",
       "  <thead>\n",
       "    <tr style=\"text-align: right;\">\n",
       "      <th></th>\n",
       "      <th>intercept</th>\n",
       "      <th>slope</th>\n",
       "    </tr>\n",
       "    <tr>\n",
       "      <th>approach</th>\n",
       "      <th></th>\n",
       "      <th></th>\n",
       "    </tr>\n",
       "  </thead>\n",
       "  <tbody>\n",
       "    <tr>\n",
       "      <th>large_x</th>\n",
       "      <td>3.015311</td>\n",
       "      <td>1.994220</td>\n",
       "    </tr>\n",
       "    <tr>\n",
       "      <th>ols</th>\n",
       "      <td>3.581019</td>\n",
       "      <td>1.268736</td>\n",
       "    </tr>\n",
       "    <tr>\n",
       "      <th>probit</th>\n",
       "      <td>2.996936</td>\n",
       "      <td>2.001656</td>\n",
       "    </tr>\n",
       "  </tbody>\n",
       "</table>\n",
       "</div>"
      ],
      "text/plain": [
       "          intercept     slope\n",
       "approach                     \n",
       "large_x    3.015311  1.994220\n",
       "ols        3.581019  1.268736\n",
       "probit     2.996936  2.001656"
      ]
     },
     "execution_count": 27,
     "metadata": {},
     "output_type": "execute_result"
    }
   ],
   "source": [
    "result  # noqa: B018"
   ]
  }
 ],
 "metadata": {
  "kernelspec": {
   "display_name": "Python 3 (ipykernel)",
   "language": "python",
   "name": "python3"
  },
  "language_info": {
   "codemirror_mode": {
    "name": "ipython",
    "version": 3
   },
   "file_extension": ".py",
   "mimetype": "text/x-python",
   "name": "python",
   "nbconvert_exporter": "python",
   "pygments_lexer": "ipython3",
   "version": "3.11.4"
  }
 },
 "nbformat": 4,
 "nbformat_minor": 5
}
